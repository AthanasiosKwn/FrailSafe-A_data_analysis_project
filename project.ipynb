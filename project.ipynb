{
 "cells": [
  {
   "cell_type": "code",
   "execution_count": 1,
   "id": "f8f03da1-698e-4b54-8d6b-165839eb5e85",
   "metadata": {},
   "outputs": [],
   "source": [
    "import pandas as pd\n"
   ]
  },
  {
   "cell_type": "code",
   "execution_count": 2,
   "id": "b4b0047a-5d83-4245-bd1e-a77ac0f9b59f",
   "metadata": {},
   "outputs": [
    {
     "name": "stdout",
     "output_type": "stream",
     "text": [
      "<class 'pandas.core.frame.DataFrame'>\n",
      "RangeIndex: 540 entries, 0 to 539\n",
      "Data columns (total 55 columns):\n",
      " #   Column                           Non-Null Count  Dtype  \n",
      "---  ------                           --------------  -----  \n",
      " 0   part_id                          540 non-null    int64  \n",
      " 1   fried                            540 non-null    object \n",
      " 2   gender                           540 non-null    object \n",
      " 3   age                              540 non-null    int64  \n",
      " 4   hospitalization_one_year         540 non-null    int64  \n",
      " 5   hospitalization_three_years      540 non-null    int64  \n",
      " 6   ortho_hypotension                540 non-null    object \n",
      " 7   vision                           540 non-null    object \n",
      " 8   audition                         540 non-null    object \n",
      " 9   weight_loss                      538 non-null    object \n",
      " 10  exhaustion_score                 540 non-null    int64  \n",
      " 11  raise_chair_time                 539 non-null    float64\n",
      " 12  balance_single                   539 non-null    object \n",
      " 13  gait_get_up                      538 non-null    float64\n",
      " 14  gait_speed_4m                    540 non-null    float64\n",
      " 15  gait_optional_binary             540 non-null    bool   \n",
      " 16  gait_speed_slower                540 non-null    object \n",
      " 17  grip_strength_abnormal           540 non-null    object \n",
      " 18  low_physical_activity            540 non-null    object \n",
      " 19  falls_one_year                   540 non-null    int64  \n",
      " 20  fractures_three_years            540 non-null    int64  \n",
      " 21  bmi_score                        538 non-null    float64\n",
      " 22  bmi_body_fat                     407 non-null    float64\n",
      " 23  waist                            537 non-null    float64\n",
      " 24  lean_body_mass                   407 non-null    float64\n",
      " 25  screening_score                  540 non-null    int64  \n",
      " 26  cognitive_total_score            484 non-null    float64\n",
      " 27  memory_complain                  501 non-null    object \n",
      " 28  sleep                            537 non-null    object \n",
      " 29  mmse_total_score                 540 non-null    int64  \n",
      " 30  depression_total_score           539 non-null    float64\n",
      " 31  anxiety_perception               539 non-null    float64\n",
      " 32  living_alone                     539 non-null    object \n",
      " 33  leisure_out                      539 non-null    float64\n",
      " 34  leisure_club                     539 non-null    object \n",
      " 35  social_visits                    539 non-null    float64\n",
      " 36  social_calls                     538 non-null    float64\n",
      " 37  social_phone                     539 non-null    float64\n",
      " 38  social_skype                     539 non-null    float64\n",
      " 39  social_text                      538 non-null    float64\n",
      " 40  house_suitable_participant       442 non-null    object \n",
      " 41  house_suitable_professional      442 non-null    object \n",
      " 42  stairs_number                    442 non-null    float64\n",
      " 43  life_quality                     539 non-null    float64\n",
      " 44  health_rate                      539 non-null    object \n",
      " 45  health_rate_comparison           539 non-null    object \n",
      " 46  pain_perception                  539 non-null    float64\n",
      " 47  activity_regular                 538 non-null    object \n",
      " 48  smoking                          539 non-null    object \n",
      " 49  alcohol_units                    540 non-null    float64\n",
      " 50  katz_index                       540 non-null    float64\n",
      " 51  iadl_grade                       539 non-null    float64\n",
      " 52  comorbidities_count              540 non-null    int64  \n",
      " 53  comorbidities_significant_count  540 non-null    int64  \n",
      " 54  medication_count                 540 non-null    int64  \n",
      "dtypes: bool(1), float64(22), int64(12), object(20)\n",
      "memory usage: 228.5+ KB\n"
     ]
    }
   ],
   "source": [
    "#Loading the file and getting information about the structure of the dataset using the .info() function\n",
    "clinical = pd.read_csv('clinical_dataset.csv',delimiter=';')\n",
    "clinical.info()\n",
    "\n",
    "\n"
   ]
  },
  {
   "cell_type": "markdown",
   "id": "4839a780-3cc3-4688-821e-0eb61345d976",
   "metadata": {},
   "source": [
    "### The clinical dataset is composed of 540 instances (rows) and 55 features (colunns) both numerical (integers and floats) and categorical. There is also a boolean feature which essentially is also a categorical attribute (Yes or No)"
   ]
  },
  {
   "cell_type": "code",
   "execution_count": 3,
   "id": "3f67adb7-6d3d-43f1-8c77-d6fd4dd6e451",
   "metadata": {},
   "outputs": [
    {
     "data": {
      "text/html": [
       "<div>\n",
       "<style scoped>\n",
       "    .dataframe tbody tr th:only-of-type {\n",
       "        vertical-align: middle;\n",
       "    }\n",
       "\n",
       "    .dataframe tbody tr th {\n",
       "        vertical-align: top;\n",
       "    }\n",
       "\n",
       "    .dataframe thead th {\n",
       "        text-align: right;\n",
       "    }\n",
       "</style>\n",
       "<table border=\"1\" class=\"dataframe\">\n",
       "  <thead>\n",
       "    <tr style=\"text-align: right;\">\n",
       "      <th></th>\n",
       "      <th>part_id</th>\n",
       "      <th>fried</th>\n",
       "      <th>gender</th>\n",
       "      <th>age</th>\n",
       "      <th>hospitalization_one_year</th>\n",
       "      <th>hospitalization_three_years</th>\n",
       "      <th>ortho_hypotension</th>\n",
       "      <th>vision</th>\n",
       "      <th>audition</th>\n",
       "      <th>weight_loss</th>\n",
       "      <th>...</th>\n",
       "      <th>health_rate_comparison</th>\n",
       "      <th>pain_perception</th>\n",
       "      <th>activity_regular</th>\n",
       "      <th>smoking</th>\n",
       "      <th>alcohol_units</th>\n",
       "      <th>katz_index</th>\n",
       "      <th>iadl_grade</th>\n",
       "      <th>comorbidities_count</th>\n",
       "      <th>comorbidities_significant_count</th>\n",
       "      <th>medication_count</th>\n",
       "    </tr>\n",
       "  </thead>\n",
       "  <tbody>\n",
       "    <tr>\n",
       "      <th>0</th>\n",
       "      <td>1001</td>\n",
       "      <td>Non frail</td>\n",
       "      <td>F</td>\n",
       "      <td>75</td>\n",
       "      <td>0</td>\n",
       "      <td>0</td>\n",
       "      <td>No</td>\n",
       "      <td>Sees moderately</td>\n",
       "      <td>Hears well</td>\n",
       "      <td>No</td>\n",
       "      <td>...</td>\n",
       "      <td>3 - About the same</td>\n",
       "      <td>4.2</td>\n",
       "      <td>&gt; 2 h and &lt; 5 h per week</td>\n",
       "      <td>Never smoked</td>\n",
       "      <td>1.0</td>\n",
       "      <td>6.0</td>\n",
       "      <td>31.0</td>\n",
       "      <td>5</td>\n",
       "      <td>0</td>\n",
       "      <td>5</td>\n",
       "    </tr>\n",
       "    <tr>\n",
       "      <th>1</th>\n",
       "      <td>1002</td>\n",
       "      <td>Pre-frail</td>\n",
       "      <td>M</td>\n",
       "      <td>73</td>\n",
       "      <td>0</td>\n",
       "      <td>1</td>\n",
       "      <td>No</td>\n",
       "      <td>Sees moderately</td>\n",
       "      <td>Hears moderately</td>\n",
       "      <td>No</td>\n",
       "      <td>...</td>\n",
       "      <td>2 - A little worse</td>\n",
       "      <td>3.3</td>\n",
       "      <td>&gt; 2 h and &lt; 5 h per week</td>\n",
       "      <td>Never smoked</td>\n",
       "      <td>14.0</td>\n",
       "      <td>6.0</td>\n",
       "      <td>26.0</td>\n",
       "      <td>12</td>\n",
       "      <td>0</td>\n",
       "      <td>4</td>\n",
       "    </tr>\n",
       "    <tr>\n",
       "      <th>2</th>\n",
       "      <td>1003</td>\n",
       "      <td>Pre-frail</td>\n",
       "      <td>M</td>\n",
       "      <td>72</td>\n",
       "      <td>0</td>\n",
       "      <td>0</td>\n",
       "      <td>No</td>\n",
       "      <td>Sees moderately</td>\n",
       "      <td>Hears moderately</td>\n",
       "      <td>No</td>\n",
       "      <td>...</td>\n",
       "      <td>3 - About the same</td>\n",
       "      <td>3.4</td>\n",
       "      <td>&lt; 2 h per week</td>\n",
       "      <td>Past smoker (stopped at least 6 months)</td>\n",
       "      <td>21.0</td>\n",
       "      <td>6.0</td>\n",
       "      <td>26.0</td>\n",
       "      <td>9</td>\n",
       "      <td>0</td>\n",
       "      <td>3</td>\n",
       "    </tr>\n",
       "    <tr>\n",
       "      <th>3</th>\n",
       "      <td>1004</td>\n",
       "      <td>Frail</td>\n",
       "      <td>F</td>\n",
       "      <td>88</td>\n",
       "      <td>0</td>\n",
       "      <td>0</td>\n",
       "      <td>No</td>\n",
       "      <td>Sees moderately</td>\n",
       "      <td>Hears moderately</td>\n",
       "      <td>No</td>\n",
       "      <td>...</td>\n",
       "      <td>3 - About the same</td>\n",
       "      <td>7.3</td>\n",
       "      <td>&lt; 2 h per week</td>\n",
       "      <td>Never smoked</td>\n",
       "      <td>21.0</td>\n",
       "      <td>5.5</td>\n",
       "      <td>20.0</td>\n",
       "      <td>11</td>\n",
       "      <td>0</td>\n",
       "      <td>8</td>\n",
       "    </tr>\n",
       "    <tr>\n",
       "      <th>4</th>\n",
       "      <td>1005</td>\n",
       "      <td>Pre-frail</td>\n",
       "      <td>F</td>\n",
       "      <td>83</td>\n",
       "      <td>0</td>\n",
       "      <td>4</td>\n",
       "      <td>Yes</td>\n",
       "      <td>Sees moderately</td>\n",
       "      <td>Hears poorly</td>\n",
       "      <td>No</td>\n",
       "      <td>...</td>\n",
       "      <td>3 - About the same</td>\n",
       "      <td>3.0</td>\n",
       "      <td>&gt; 5 h per week</td>\n",
       "      <td>Current smoker</td>\n",
       "      <td>0.0</td>\n",
       "      <td>6.0</td>\n",
       "      <td>30.0</td>\n",
       "      <td>12</td>\n",
       "      <td>0</td>\n",
       "      <td>4</td>\n",
       "    </tr>\n",
       "  </tbody>\n",
       "</table>\n",
       "<p>5 rows × 55 columns</p>\n",
       "</div>"
      ],
      "text/plain": [
       "   part_id      fried gender  age  hospitalization_one_year  \\\n",
       "0     1001  Non frail      F   75                         0   \n",
       "1     1002  Pre-frail      M   73                         0   \n",
       "2     1003  Pre-frail      M   72                         0   \n",
       "3     1004      Frail      F   88                         0   \n",
       "4     1005  Pre-frail      F   83                         0   \n",
       "\n",
       "   hospitalization_three_years ortho_hypotension           vision  \\\n",
       "0                            0                No  Sees moderately   \n",
       "1                            1                No  Sees moderately   \n",
       "2                            0                No  Sees moderately   \n",
       "3                            0                No  Sees moderately   \n",
       "4                            4               Yes  Sees moderately   \n",
       "\n",
       "           audition weight_loss  ...  health_rate_comparison  pain_perception  \\\n",
       "0        Hears well          No  ...      3 - About the same              4.2   \n",
       "1  Hears moderately          No  ...      2 - A little worse              3.3   \n",
       "2  Hears moderately          No  ...      3 - About the same              3.4   \n",
       "3  Hears moderately          No  ...      3 - About the same              7.3   \n",
       "4      Hears poorly          No  ...      3 - About the same              3.0   \n",
       "\n",
       "           activity_regular                                  smoking  \\\n",
       "0  > 2 h and < 5 h per week                             Never smoked   \n",
       "1  > 2 h and < 5 h per week                             Never smoked   \n",
       "2            < 2 h per week  Past smoker (stopped at least 6 months)   \n",
       "3            < 2 h per week                             Never smoked   \n",
       "4            > 5 h per week                           Current smoker   \n",
       "\n",
       "   alcohol_units  katz_index iadl_grade comorbidities_count  \\\n",
       "0            1.0         6.0       31.0                   5   \n",
       "1           14.0         6.0       26.0                  12   \n",
       "2           21.0         6.0       26.0                   9   \n",
       "3           21.0         5.5       20.0                  11   \n",
       "4            0.0         6.0       30.0                  12   \n",
       "\n",
       "  comorbidities_significant_count  medication_count  \n",
       "0                               0                 5  \n",
       "1                               0                 4  \n",
       "2                               0                 3  \n",
       "3                               0                 8  \n",
       "4                               0                 4  \n",
       "\n",
       "[5 rows x 55 columns]"
      ]
     },
     "execution_count": 3,
     "metadata": {},
     "output_type": "execute_result"
    }
   ],
   "source": [
    "clinical.head()"
   ]
  },
  {
   "cell_type": "markdown",
   "id": "c8635b9f-a8ab-4e51-9d97-f26e8236a5b3",
   "metadata": {},
   "source": [
    "###  Splitting the column names in two different lists categorical, numerical"
   ]
  },
  {
   "cell_type": "code",
   "execution_count": 4,
   "id": "3d184484-66f2-452a-8b25-8c0d1e42da0b",
   "metadata": {
    "scrolled": true
   },
   "outputs": [
    {
     "name": "stdout",
     "output_type": "stream",
     "text": [
      "categorical features Index(['fried', 'gender', 'ortho_hypotension', 'vision', 'audition',\n",
      "       'weight_loss', 'balance_single', 'gait_optional_binary',\n",
      "       'gait_speed_slower', 'grip_strength_abnormal', 'low_physical_activity',\n",
      "       'memory_complain', 'sleep', 'living_alone', 'leisure_club',\n",
      "       'house_suitable_participant', 'house_suitable_professional',\n",
      "       'health_rate', 'health_rate_comparison', 'activity_regular', 'smoking'],\n",
      "      dtype='object') 21\n",
      "numerical features Index(['part_id', 'age', 'hospitalization_one_year',\n",
      "       'hospitalization_three_years', 'exhaustion_score', 'raise_chair_time',\n",
      "       'gait_get_up', 'gait_speed_4m', 'falls_one_year',\n",
      "       'fractures_three_years', 'bmi_score', 'bmi_body_fat', 'waist',\n",
      "       'lean_body_mass', 'screening_score', 'cognitive_total_score',\n",
      "       'mmse_total_score', 'depression_total_score', 'anxiety_perception',\n",
      "       'leisure_out', 'social_visits', 'social_calls', 'social_phone',\n",
      "       'social_skype', 'social_text', 'stairs_number', 'life_quality',\n",
      "       'pain_perception', 'alcohol_units', 'katz_index', 'iadl_grade',\n",
      "       'comorbidities_count', 'comorbidities_significant_count',\n",
      "       'medication_count'],\n",
      "      dtype='object') 34\n",
      "55\n"
     ]
    }
   ],
   "source": [
    "categorical_column_names = clinical.select_dtypes(include=['object','bool']).columns\n",
    "print(\"categorical features\",categorical_column_names,len(categorical_column_names))\n",
    "numerical_column_names = clinical.select_dtypes(include=['int64','float64']).columns\n",
    "print(\"numerical features\",numerical_column_names,len(numerical_column_names))\n",
    "print(\"Total number of columns\",len(numerical_column_names)+len(categorical_column_names))\n"
   ]
  },
  {
   "cell_type": "markdown",
   "id": "9be90802-865c-4913-9524-e6fb61dc2703",
   "metadata": {},
   "source": [
    "### The total number of collumns is indeed 55 so we have not missed any column name."
   ]
  },
  {
   "cell_type": "markdown",
   "id": "7b5f0f20-03a6-4bc4-abfa-5023cba30843",
   "metadata": {},
   "source": [
    "### In order to start cleaning the dataset we need to inspect the different features, starting with the categorical ones:"
   ]
  },
  {
   "cell_type": "code",
   "execution_count": 5,
   "id": "ce2f664f-ab71-4043-8e3b-fac9e4840517",
   "metadata": {
    "scrolled": true
   },
   "outputs": [
    {
     "name": "stdout",
     "output_type": "stream",
     "text": [
      "fried\n",
      "Pre-frail    227\n",
      "Non frail    213\n",
      "Frail        100\n",
      "Name: count, dtype: int64\n",
      "\n",
      "\n",
      "gender\n",
      "F    328\n",
      "M    212\n",
      "Name: count, dtype: int64\n",
      "\n",
      "\n",
      "ortho_hypotension\n",
      "No     470\n",
      "Yes     70\n",
      "Name: count, dtype: int64\n",
      "\n",
      "\n",
      "vision\n",
      "Sees well          364\n",
      "Sees moderately    152\n",
      "Sees poorly         24\n",
      "Name: count, dtype: int64\n",
      "\n",
      "\n",
      "audition\n",
      "Hears well          393\n",
      "Hears moderately    118\n",
      "Hears poorly         29\n",
      "Name: count, dtype: int64\n",
      "\n",
      "\n",
      "weight_loss\n",
      "No     494\n",
      "Yes     44\n",
      "Name: count, dtype: int64\n",
      "\n",
      "\n",
      "balance_single\n",
      ">5 sec                 333\n",
      "<5 sec                 157\n",
      "test non realizable     49\n",
      "Name: count, dtype: int64\n",
      "\n",
      "\n",
      "gait_optional_binary\n",
      "False    493\n",
      "True      47\n",
      "Name: count, dtype: int64\n",
      "\n",
      "\n",
      "gait_speed_slower\n",
      "No                   387\n",
      "Yes                  149\n",
      "Test not adequate      4\n",
      "Name: count, dtype: int64\n",
      "\n",
      "\n",
      "grip_strength_abnormal\n",
      "No     300\n",
      "Yes    240\n",
      "Name: count, dtype: int64\n",
      "\n",
      "\n",
      "low_physical_activity\n",
      "No     452\n",
      "Yes     88\n",
      "Name: count, dtype: int64\n",
      "\n",
      "\n",
      "memory_complain\n",
      "No     399\n",
      "Yes    102\n",
      "Name: count, dtype: int64\n",
      "\n",
      "\n",
      "sleep\n",
      "No sleep problem            297\n",
      "Occasional sleep problem    145\n",
      "Permanent sleep problem      95\n",
      "Name: count, dtype: int64\n",
      "\n",
      "\n",
      "living_alone\n",
      "No     375\n",
      "Yes    164\n",
      "Name: count, dtype: int64\n",
      "\n",
      "\n",
      "leisure_club\n",
      "Yes    345\n",
      "No     194\n",
      "Name: count, dtype: int64\n",
      "\n",
      "\n",
      "house_suitable_participant\n",
      "Yes    422\n",
      "No      20\n",
      "Name: count, dtype: int64\n",
      "\n",
      "\n",
      "house_suitable_professional\n",
      "Yes    419\n",
      "No      23\n",
      "Name: count, dtype: int64\n",
      "\n",
      "\n",
      "health_rate\n",
      "4 - Good         282\n",
      "3 - Medium       173\n",
      "5 - Excellent     57\n",
      "2 - Bad           24\n",
      "1 - Very bad       3\n",
      "Name: count, dtype: int64\n",
      "\n",
      "\n",
      "health_rate_comparison\n",
      "3 - About the same     329\n",
      "2 - A little worse     123\n",
      "4 - A little better     58\n",
      "1 - A lot worse         15\n",
      "5 - A lot better        14\n",
      "Name: count, dtype: int64\n",
      "\n",
      "\n",
      "activity_regular\n",
      "> 2 h and < 5 h per week    175\n",
      "> 5 h per week              169\n",
      "< 2 h per week              148\n",
      "No                           46\n",
      "Name: count, dtype: int64\n",
      "\n",
      "\n",
      "smoking\n",
      "Never smoked                               310\n",
      "Past smoker (stopped at least 6 months)    178\n",
      "Current smoker                              51\n",
      "Name: count, dtype: int64\n",
      "\n",
      "\n"
     ]
    }
   ],
   "source": [
    "for categorical_name in categorical_column_names:\n",
    "    print(clinical[categorical_name].value_counts())\n",
    "    print(\"\\n\")\n",
    "   "
   ]
  },
  {
   "cell_type": "markdown",
   "id": "9b0e09d9-8045-4751-ac23-ccb50a5d0303",
   "metadata": {},
   "source": [
    "### THERE ARE TWO WAYS FALSE VALUES APPEAR IN CATEGORICAL FEATURES: 'Test not adequate', 'test non realizable'. We replace these two string values with the string value 'None'. From the output of cell #2, we are informed that there are Null values in some categorical features. We also replace them with the value 'None' in order to have homogeneity among them."
   ]
  },
  {
   "cell_type": "code",
   "execution_count": 6,
   "id": "e2769241-3e7f-4b55-983a-57bf7cba42ad",
   "metadata": {},
   "outputs": [],
   "source": [
    "strings_to_replace = ['Test not adequate','test non realizable']\n",
    "\n",
    "for column in categorical_column_names:\n",
    "    clinical[column] = clinical[column].apply(lambda x: 'None' if x in strings_to_replace or pd.isna(x) else x)"
   ]
  },
  {
   "cell_type": "code",
   "execution_count": 7,
   "id": "c1518664-fe41-45ae-a8cf-741761ab4ae8",
   "metadata": {},
   "outputs": [
    {
     "name": "stdout",
     "output_type": "stream",
     "text": [
      "fried\n",
      "Pre-frail    227\n",
      "Non frail    213\n",
      "Frail        100\n",
      "Name: count, dtype: int64\n",
      "\n",
      "\n",
      "gender\n",
      "F    328\n",
      "M    212\n",
      "Name: count, dtype: int64\n",
      "\n",
      "\n",
      "ortho_hypotension\n",
      "No     470\n",
      "Yes     70\n",
      "Name: count, dtype: int64\n",
      "\n",
      "\n",
      "vision\n",
      "Sees well          364\n",
      "Sees moderately    152\n",
      "Sees poorly         24\n",
      "Name: count, dtype: int64\n",
      "\n",
      "\n",
      "audition\n",
      "Hears well          393\n",
      "Hears moderately    118\n",
      "Hears poorly         29\n",
      "Name: count, dtype: int64\n",
      "\n",
      "\n",
      "weight_loss\n",
      "No      494\n",
      "Yes      44\n",
      "None      2\n",
      "Name: count, dtype: int64\n",
      "\n",
      "\n",
      "balance_single\n",
      ">5 sec    333\n",
      "<5 sec    157\n",
      "None       50\n",
      "Name: count, dtype: int64\n",
      "\n",
      "\n",
      "gait_optional_binary\n",
      "False    493\n",
      "True      47\n",
      "Name: count, dtype: int64\n",
      "\n",
      "\n",
      "gait_speed_slower\n",
      "No      387\n",
      "Yes     149\n",
      "None      4\n",
      "Name: count, dtype: int64\n",
      "\n",
      "\n",
      "grip_strength_abnormal\n",
      "No     300\n",
      "Yes    240\n",
      "Name: count, dtype: int64\n",
      "\n",
      "\n",
      "low_physical_activity\n",
      "No     452\n",
      "Yes     88\n",
      "Name: count, dtype: int64\n",
      "\n",
      "\n",
      "memory_complain\n",
      "No      399\n",
      "Yes     102\n",
      "None     39\n",
      "Name: count, dtype: int64\n",
      "\n",
      "\n",
      "sleep\n",
      "No sleep problem            297\n",
      "Occasional sleep problem    145\n",
      "Permanent sleep problem      95\n",
      "None                          3\n",
      "Name: count, dtype: int64\n",
      "\n",
      "\n",
      "living_alone\n",
      "No      375\n",
      "Yes     164\n",
      "None      1\n",
      "Name: count, dtype: int64\n",
      "\n",
      "\n",
      "leisure_club\n",
      "Yes     345\n",
      "No      194\n",
      "None      1\n",
      "Name: count, dtype: int64\n",
      "\n",
      "\n",
      "house_suitable_participant\n",
      "Yes     422\n",
      "None     98\n",
      "No       20\n",
      "Name: count, dtype: int64\n",
      "\n",
      "\n",
      "house_suitable_professional\n",
      "Yes     419\n",
      "None     98\n",
      "No       23\n",
      "Name: count, dtype: int64\n",
      "\n",
      "\n",
      "health_rate\n",
      "4 - Good         282\n",
      "3 - Medium       173\n",
      "5 - Excellent     57\n",
      "2 - Bad           24\n",
      "1 - Very bad       3\n",
      "None               1\n",
      "Name: count, dtype: int64\n",
      "\n",
      "\n",
      "health_rate_comparison\n",
      "3 - About the same     329\n",
      "2 - A little worse     123\n",
      "4 - A little better     58\n",
      "1 - A lot worse         15\n",
      "5 - A lot better        14\n",
      "None                     1\n",
      "Name: count, dtype: int64\n",
      "\n",
      "\n",
      "activity_regular\n",
      "> 2 h and < 5 h per week    175\n",
      "> 5 h per week              169\n",
      "< 2 h per week              148\n",
      "No                           46\n",
      "None                          2\n",
      "Name: count, dtype: int64\n",
      "\n",
      "\n",
      "smoking\n",
      "Never smoked                               310\n",
      "Past smoker (stopped at least 6 months)    178\n",
      "Current smoker                              51\n",
      "None                                         1\n",
      "Name: count, dtype: int64\n",
      "\n",
      "\n"
     ]
    }
   ],
   "source": [
    "for categorical_name in categorical_column_names:\n",
    "    print(clinical[categorical_name].value_counts())\n",
    "    print(\"\\n\")"
   ]
  },
  {
   "cell_type": "markdown",
   "id": "6ca9d86b-8f20-4c4e-9fc8-ea41cb0ef5e5",
   "metadata": {},
   "source": [
    "### We have replaced the 'Test not adequate', 'test non realizable' false values with 'None' and we have also replaced the Null values with 'None'. We can now view both as one single entity, the entity of a missing value (to be exact, having them replaced with the string 'None' makes them not Null because they do have a value, we could have replaced them with the None datatype and make them truly null values but we choose not to, so we can visualize those missing values, as seen above). By inspecting the output of the previous cell, the following categorical features have missing values:\n",
    "\n",
    "### weight_loss --> 2\n",
    "### balance_single --> 50\n",
    "### gait_speed_slower --> 4\n",
    "### memory_complain --> 39\n",
    "### sleep -->3\n",
    "### living_alone --> 1\n",
    "### leisure_club --> 1\n",
    "### house_suitable_participant -->98\n",
    "### house_suitable_professional -->98\n",
    "### health_rate --> 1\n",
    "### health_rate_comparison --> 1\n",
    "### activity_regular --> 2\n",
    "### smoking --> 1\n",
    "\n"
   ]
  },
  {
   "cell_type": "markdown",
   "id": "6af3df97-2c94-4c5b-9ed8-012c5f370ac7",
   "metadata": {},
   "source": [
    "### We are going to drop all the instances that have missing values in all the above categorical features except 'balance_single', 'memory_complain', 'house_suitable_participant', 'house_suitable_professional' where the number of them is large and droping them would negatively impact our analysis - models trained on small datasets have usually bad performance and problems such as overfitting are common in such cases -. After we drop the instances mentioned, we will have 16 less instances (maximum) out of the original 540 ."
   ]
  },
  {
   "cell_type": "code",
   "execution_count": 8,
   "id": "a926d1c4-2269-4693-9074-32d70a3e5e05",
   "metadata": {},
   "outputs": [],
   "source": [
    "columns_to_check = ['weight_loss','gait_speed_slower','sleep','living_alone','leisure_club','health_rate','health_rate_comparison','activity_regular','smoking']\n"
   ]
  },
  {
   "cell_type": "code",
   "execution_count": 9,
   "id": "dfedf874-4e92-4225-8fe0-6943543faba6",
   "metadata": {},
   "outputs": [],
   "source": [
    "for column in categorical_column_names:\n",
    "    clinical[column] = clinical[column].apply(lambda x: None if x == 'None' else x) #so we can use dropna later on the next line\n",
    "clinical.dropna(subset=columns_to_check, inplace=True)"
   ]
  },
  {
   "cell_type": "code",
   "execution_count": 10,
   "id": "7ac7c5a0-32e1-4a7d-ac7c-2f2692235de4",
   "metadata": {},
   "outputs": [
    {
     "name": "stdout",
     "output_type": "stream",
     "text": [
      "<class 'pandas.core.frame.DataFrame'>\n",
      "Index: 526 entries, 0 to 539\n",
      "Data columns (total 55 columns):\n",
      " #   Column                           Non-Null Count  Dtype  \n",
      "---  ------                           --------------  -----  \n",
      " 0   part_id                          526 non-null    int64  \n",
      " 1   fried                            526 non-null    object \n",
      " 2   gender                           526 non-null    object \n",
      " 3   age                              526 non-null    int64  \n",
      " 4   hospitalization_one_year         526 non-null    int64  \n",
      " 5   hospitalization_three_years      526 non-null    int64  \n",
      " 6   ortho_hypotension                526 non-null    object \n",
      " 7   vision                           526 non-null    object \n",
      " 8   audition                         526 non-null    object \n",
      " 9   weight_loss                      526 non-null    object \n",
      " 10  exhaustion_score                 526 non-null    int64  \n",
      " 11  raise_chair_time                 526 non-null    float64\n",
      " 12  balance_single                   480 non-null    object \n",
      " 13  gait_get_up                      526 non-null    float64\n",
      " 14  gait_speed_4m                    526 non-null    float64\n",
      " 15  gait_optional_binary             526 non-null    bool   \n",
      " 16  gait_speed_slower                526 non-null    object \n",
      " 17  grip_strength_abnormal           526 non-null    object \n",
      " 18  low_physical_activity            526 non-null    object \n",
      " 19  falls_one_year                   526 non-null    int64  \n",
      " 20  fractures_three_years            526 non-null    int64  \n",
      " 21  bmi_score                        525 non-null    float64\n",
      " 22  bmi_body_fat                     400 non-null    float64\n",
      " 23  waist                            523 non-null    float64\n",
      " 24  lean_body_mass                   400 non-null    float64\n",
      " 25  screening_score                  526 non-null    int64  \n",
      " 26  cognitive_total_score            474 non-null    float64\n",
      " 27  memory_complain                  489 non-null    object \n",
      " 28  sleep                            526 non-null    object \n",
      " 29  mmse_total_score                 526 non-null    int64  \n",
      " 30  depression_total_score           526 non-null    float64\n",
      " 31  anxiety_perception               526 non-null    float64\n",
      " 32  living_alone                     526 non-null    object \n",
      " 33  leisure_out                      526 non-null    float64\n",
      " 34  leisure_club                     526 non-null    object \n",
      " 35  social_visits                    526 non-null    float64\n",
      " 36  social_calls                     526 non-null    float64\n",
      " 37  social_phone                     526 non-null    float64\n",
      " 38  social_skype                     526 non-null    float64\n",
      " 39  social_text                      525 non-null    float64\n",
      " 40  house_suitable_participant       433 non-null    object \n",
      " 41  house_suitable_professional      433 non-null    object \n",
      " 42  stairs_number                    433 non-null    float64\n",
      " 43  life_quality                     526 non-null    float64\n",
      " 44  health_rate                      526 non-null    object \n",
      " 45  health_rate_comparison           526 non-null    object \n",
      " 46  pain_perception                  526 non-null    float64\n",
      " 47  activity_regular                 526 non-null    object \n",
      " 48  smoking                          526 non-null    object \n",
      " 49  alcohol_units                    526 non-null    float64\n",
      " 50  katz_index                       526 non-null    float64\n",
      " 51  iadl_grade                       526 non-null    float64\n",
      " 52  comorbidities_count              526 non-null    int64  \n",
      " 53  comorbidities_significant_count  526 non-null    int64  \n",
      " 54  medication_count                 526 non-null    int64  \n",
      "dtypes: bool(1), float64(22), int64(12), object(20)\n",
      "memory usage: 226.5+ KB\n"
     ]
    }
   ],
   "source": [
    "clinical.info()"
   ]
  },
  {
   "cell_type": "markdown",
   "id": "1988a336-2512-47f7-aaef-99810cb94a81",
   "metadata": {},
   "source": [
    "### The only categorical features that have Null values are 'balance_single', 'memory_complain', 'house_suitable_participant' and 'house_suitable_professional' as expected. Further down, these Null values will be replaced with the string 'None' in order for an encoding algorithm to be used."
   ]
  },
  {
   "cell_type": "markdown",
   "id": "06a0ef1a-385a-4a78-bc33-949ab3ec3fed",
   "metadata": {},
   "source": [
    "### The categorical features missing values are the following:\n",
    "### balance_single --> 46\n",
    "### memory_complain --> 37\n",
    "### house_suitable_participant --> 93\n",
    "### house_suitable_professional --> 93\n"
   ]
  },
  {
   "cell_type": "markdown",
   "id": "a6288479-c200-4b66-8900-1bf79a97aded",
   "metadata": {},
   "source": [
    "### There are two different ways these missing values can be dealt with. The instances containing empty values in the above columns are dropped (but as mentioned before this will impact our analysis in a negative manner) or we try to predict them by training a classifier on the data. To be able to do that, we need to clean the numerical features."
   ]
  },
  {
   "cell_type": "markdown",
   "id": "d7e0ed7c-659d-4bf4-b919-4c64bfb66454",
   "metadata": {},
   "source": [
    "### Cleaning the Numerical Columns: Numerical features have also false values:"
   ]
  },
  {
   "cell_type": "code",
   "execution_count": 11,
   "id": "5761bcb0-b8cb-4121-8f3e-5e68f8c63a62",
   "metadata": {
    "scrolled": true
   },
   "outputs": [
    {
     "data": {
      "text/plain": [
       "122"
      ]
     },
     "execution_count": 11,
     "metadata": {},
     "output_type": "execute_result"
    }
   ],
   "source": [
    "count_999 = (clinical == 999).sum().sum()\n",
    "count_999"
   ]
  },
  {
   "cell_type": "markdown",
   "id": "84def84d-189b-4734-ae5b-a786c30f04fd",
   "metadata": {},
   "source": [
    "### There are 122 cells in the dataframe that have the false value '999'. We are about to replace them with empty values."
   ]
  },
  {
   "cell_type": "code",
   "execution_count": 12,
   "id": "d9771f7c-b929-40a4-b92e-734c3b834ec9",
   "metadata": {},
   "outputs": [],
   "source": [
    "for column in numerical_column_names:\n",
    "    clinical[column] = clinical[column].apply(lambda x: None if x == 999 else x)"
   ]
  },
  {
   "cell_type": "code",
   "execution_count": 13,
   "id": "f42238b7-dcc7-44be-aa63-208f89bb2e3d",
   "metadata": {},
   "outputs": [
    {
     "data": {
      "text/plain": [
       "0"
      ]
     },
     "execution_count": 13,
     "metadata": {},
     "output_type": "execute_result"
    }
   ],
   "source": [
    "count_999 = (clinical == 999).sum().sum()\n",
    "count_999"
   ]
  },
  {
   "cell_type": "markdown",
   "id": "73c1f006-2670-47fa-9ca5-c3219de19b1e",
   "metadata": {},
   "source": [
    "### As seen above, all '999' values have been set to None, we must now fill all missing numerical values. Empty values in columns that contain outliers, will be imputed using the median value (the mean value is not a good representative value when outliers exist) of the column values and for columns with no outliers, the mean value will be used instead."
   ]
  },
  {
   "cell_type": "markdown",
   "id": "38c6b427-189b-48ee-bc87-6cebdaa8fd0f",
   "metadata": {},
   "source": [
    "### In order to differentiate between columns with and without outliers the z-score metric is used. Z-score is a statistical measure of how many standard deviations below or above the population mean a data point is. Python library 'scipy', contains a function used to compute the z-scores of an array like object, in our case the numerical columns. For each numerical column a z-score for each value of the column is computed and if the absolute value of it exceeds a threshold (in our case 3 standard deviations) we consider it an outlier for that column. If the total number of outliers contained in a column is bigger than a threshold (at least 5) then the column is considered a 'column with outliers' and it's missing values are imputed using the median. If not, the column is considered a 'column without outliers' and the mean value is used. The choice of the threshold values for the z-score and the number of outliers, that define whether a columns needs to be imputed using the median value or not, are somewhat arbitrarily chosen, especially the number of outliers. There is no standard rule to dictate what is the best choice for these values. One way to empirically find the best values, is by testing different pairs of values and keeping those that results in a dataset that the classifier thas is trained trained on, has the best performance.\n",
    "\n",
    "### The z-score function cannot deal with missing values and so, for each numerical column we must only keep the rows that have no missing value in it. In the cell below, we create one dataframe for each numerical column, that contains the instances of the original clinical dataframe which do not contain Null values for that specific column, so we can use those 34 dataframes (the number of numerical features-columns is 34) to compute z scores for each column and infere whether a column has outliers or not. The dataframes are placed inside a dictionary as values, they keys to each dataframe is the name of the corresponding column."
   ]
  },
  {
   "cell_type": "code",
   "execution_count": 14,
   "id": "3046fcf9-6ca3-4732-8699-c2a58596bb9e",
   "metadata": {},
   "outputs": [
    {
     "name": "stdout",
     "output_type": "stream",
     "text": [
      "34\n"
     ]
    }
   ],
   "source": [
    "not_none_df = {}\n",
    "for column in numerical_column_names:\n",
    "    not_none_df[column] = clinical[clinical[column].notna()]   \n",
    "print(len(not_none_df))"
   ]
  },
  {
   "cell_type": "code",
   "execution_count": 15,
   "id": "b5941943-6fa6-4d8e-a60e-e23febb5816f",
   "metadata": {},
   "outputs": [],
   "source": [
    "from scipy import stats\n"
   ]
  },
  {
   "cell_type": "code",
   "execution_count": 16,
   "id": "303d2615-50d8-49ac-a3df-06ac4f0c872e",
   "metadata": {
    "scrolled": true
   },
   "outputs": [],
   "source": [
    "\n",
    "outliers_per_column = 0\n",
    "columns_with_outliers = []\n",
    "columns_without_outliers = []\n",
    "for column in numerical_column_names:\n",
    "    z_scores_column = stats.zscore(not_none_df[column][column])\n",
    "    z_scores_column_abs = [abs(z_score) for z_score in z_scores_column]\n",
    "    largest_5_scores = sorted(z_scores_column_abs, reverse=True)[:5]   #define how many outliers a column must have to be imputed using the median instead of the mean value which is outlier sensitive\n",
    "    for score in largest_5_scores:\n",
    "      if score >= 3:                          #define the threshold above which an instance is considered an outlier\n",
    "        outliers_per_column += 1\n",
    "      else: \n",
    "        columns_without_outliers.append(column)\n",
    "        break\n",
    "    if outliers_per_column == len(largest_5_scores):\n",
    "        columns_with_outliers.append(column)\n",
    "    outliers_per_column = 0\n",
    " \n",
    "        \n",
    "        \n",
    "        \n",
    "\n",
    "        \n",
    "\n",
    "            "
   ]
  },
  {
   "cell_type": "code",
   "execution_count": 17,
   "id": "3ed7a5ad-652d-4bfd-b26c-244c81cbcd1f",
   "metadata": {
    "scrolled": true
   },
   "outputs": [
    {
     "name": "stdout",
     "output_type": "stream",
     "text": [
      "21 columns with outliers ['hospitalization_three_years', 'raise_chair_time', 'gait_get_up', 'gait_speed_4m', 'fractures_three_years', 'waist', 'screening_score', 'cognitive_total_score', 'depression_total_score', 'leisure_out', 'social_calls', 'social_phone', 'social_skype', 'social_text', 'stairs_number', 'life_quality', 'alcohol_units', 'katz_index', 'comorbidities_count', 'comorbidities_significant_count', 'medication_count']\n",
      "13 columns without outliers ['part_id', 'age', 'hospitalization_one_year', 'exhaustion_score', 'falls_one_year', 'bmi_score', 'bmi_body_fat', 'lean_body_mass', 'mmse_total_score', 'anxiety_perception', 'social_visits', 'pain_perception', 'iadl_grade']\n"
     ]
    }
   ],
   "source": [
    "print(len(columns_with_outliers),\"columns with outliers\",columns_with_outliers)\n",
    "print(len(columns_without_outliers),\"columns without outliers\",columns_without_outliers)"
   ]
  },
  {
   "cell_type": "markdown",
   "id": "d36ad3a6-0c1e-49c5-bc58-15bff5f442b7",
   "metadata": {},
   "source": [
    "### Columns in \"columns_with_outliers\" will be imputed using the median value and for columns in \"columns_without_outliers\" the mean value will be used instead. For the imputation process the SimpleImputer() class from the library scikit-learn is used."
   ]
  },
  {
   "cell_type": "code",
   "execution_count": 18,
   "id": "3b765b93-2379-4ce2-8034-0d346259c996",
   "metadata": {},
   "outputs": [],
   "source": [
    "from sklearn.impute import SimpleImputer\n",
    "median_imputer = SimpleImputer(strategy='median')\n",
    "mean_imputer = SimpleImputer(strategy='mean')\n",
    "\n",
    "# Fit and transform the imputers on the respective columns\n",
    "clinical[columns_with_outliers] = median_imputer.fit_transform(clinical[columns_with_outliers])\n",
    "clinical[columns_without_outliers] = mean_imputer.fit_transform(clinical[columns_without_outliers])\n"
   ]
  },
  {
   "cell_type": "code",
   "execution_count": 19,
   "id": "1d0540b6-a8f7-403a-8df3-7bee3c94b132",
   "metadata": {},
   "outputs": [
    {
     "name": "stdout",
     "output_type": "stream",
     "text": [
      "part_id                            0\n",
      "age                                0\n",
      "hospitalization_one_year           0\n",
      "hospitalization_three_years        0\n",
      "exhaustion_score                   0\n",
      "raise_chair_time                   0\n",
      "gait_get_up                        0\n",
      "gait_speed_4m                      0\n",
      "falls_one_year                     0\n",
      "fractures_three_years              0\n",
      "bmi_score                          0\n",
      "bmi_body_fat                       0\n",
      "waist                              0\n",
      "lean_body_mass                     0\n",
      "screening_score                    0\n",
      "cognitive_total_score              0\n",
      "mmse_total_score                   0\n",
      "depression_total_score             0\n",
      "anxiety_perception                 0\n",
      "leisure_out                        0\n",
      "social_visits                      0\n",
      "social_calls                       0\n",
      "social_phone                       0\n",
      "social_skype                       0\n",
      "social_text                        0\n",
      "stairs_number                      0\n",
      "life_quality                       0\n",
      "pain_perception                    0\n",
      "alcohol_units                      0\n",
      "katz_index                         0\n",
      "iadl_grade                         0\n",
      "comorbidities_count                0\n",
      "comorbidities_significant_count    0\n",
      "medication_count                   0\n",
      "dtype: int64\n",
      "fried                           0\n",
      "gender                          0\n",
      "ortho_hypotension               0\n",
      "vision                          0\n",
      "audition                        0\n",
      "weight_loss                     0\n",
      "balance_single                 46\n",
      "gait_optional_binary            0\n",
      "gait_speed_slower               0\n",
      "grip_strength_abnormal          0\n",
      "low_physical_activity           0\n",
      "memory_complain                37\n",
      "sleep                           0\n",
      "living_alone                    0\n",
      "leisure_club                    0\n",
      "house_suitable_participant     93\n",
      "house_suitable_professional    93\n",
      "health_rate                     0\n",
      "health_rate_comparison          0\n",
      "activity_regular                0\n",
      "smoking                         0\n",
      "dtype: int64\n"
     ]
    }
   ],
   "source": [
    "null_counts_numerical = clinical[numerical_column_names].isna().sum()\n",
    "\n",
    "print(null_counts_numerical)\n",
    "\n",
    "null_counts_categorical = clinical[categorical_column_names].isna().sum()\n",
    "\n",
    "print(null_counts_categorical)"
   ]
  },
  {
   "cell_type": "markdown",
   "id": "a56940e4-66f8-4109-ba9a-b6a2ef2f9b28",
   "metadata": {},
   "source": [
    "### We have succesfully imputed all the missing numerical values."
   ]
  },
  {
   "cell_type": "markdown",
   "id": "24101b62-682b-405e-b926-45013b86642f",
   "metadata": {},
   "source": [
    "### We can continue with the categorical feature analysis. As mentioned before, our strategy is to predict the missing categorical values. In order to do that, we need to train a classifier on the dataset. Most models don't work with categorical features so before training we need to encode them into numerical values. The encoder used does not work with missing values and that is why we temporarily convert all the missing categorical values to 'None' and then proceed with the encoding."
   ]
  },
  {
   "cell_type": "code",
   "execution_count": 20,
   "id": "7d7a4f49-21c2-4b5c-9f5d-4331cb18d80e",
   "metadata": {},
   "outputs": [],
   "source": [
    "for column in categorical_column_names:\n",
    "    clinical[column] = clinical[column].apply(lambda x: 'None' if pd.isna(x) else x)"
   ]
  },
  {
   "cell_type": "code",
   "execution_count": 21,
   "id": "4c1557da-e39f-4053-96c9-a31c368b0315",
   "metadata": {},
   "outputs": [
    {
     "name": "stdout",
     "output_type": "stream",
     "text": [
      "fried                          0\n",
      "gender                         0\n",
      "ortho_hypotension              0\n",
      "vision                         0\n",
      "audition                       0\n",
      "weight_loss                    0\n",
      "balance_single                 0\n",
      "gait_optional_binary           0\n",
      "gait_speed_slower              0\n",
      "grip_strength_abnormal         0\n",
      "low_physical_activity          0\n",
      "memory_complain                0\n",
      "sleep                          0\n",
      "living_alone                   0\n",
      "leisure_club                   0\n",
      "house_suitable_participant     0\n",
      "house_suitable_professional    0\n",
      "health_rate                    0\n",
      "health_rate_comparison         0\n",
      "activity_regular               0\n",
      "smoking                        0\n",
      "dtype: int64\n"
     ]
    }
   ],
   "source": [
    "null_counts_categorical = clinical[categorical_column_names].isna().sum()\n",
    "\n",
    "print(null_counts_categorical)"
   ]
  },
  {
   "cell_type": "markdown",
   "id": "811a6d7b-0fca-46f0-b7c5-632f248ea0e9",
   "metadata": {},
   "source": [
    "### Out of the 21 categorical features, 20 of them are either ordinal or binary non ordinal. The ordinal features must be encoded in a way that preserves the meaningful order that desribes them (for example \"Bad\", \"Good\", \"Best\" --> 0,1,2 and not 1,0,2 because then the classifier will assume that \"Best\" is closer to \"Bad\" than it is to \"Good\", which obviously is not true ). In regards to the binary non ordinal features, such limitation does not exist because there is no order to consider, and due to them being binary and only receiving two different values, we can randomly specify that one value is 0 and the other is 1. Number 1 is as similar to 0 as number 0 is to 1 so although there is an order to the numbers we will not run to the previously mentioned problem. However some algorithms might assume that the category encoded as 1 is greater than the category encoded as 0 where obvisouly there is no such relation between them. A better way to encode binary non ordinal features and not having to worry about that, would be the method of OneHot, but because OneHot encoding creates two new columns for each binary column that gets encoded and because there are 9 of these columns, that would increase the number of the features by 9 (not 18, the original columns are dropped). Comparing the two approaches, I believe that the best choice is to keep the dimensions of the dataset as low as possible meaning that the binary non ordinal columns will be encoded using the first approach. Finally, there is a non binary and non ordinal categorical column ('smoking') which will be encoded using the OneHotEncoding method. One hot encoding works by replacing the original column with new columns, one for each of the unique values found in the original column. For example for the 'smoking' column where the categories are 'Never smoked', 'Past smoker (stopped at least 6 months)', 'Current smoker', three new columns (with the columns names being the category names) are replacing the original. The new columns contain binary values. If an instance belongs to the category 'Never Smoked' then in the column with the same name the value is 1 and the values in the other two collumns are 0. One Hot Encoding is used for non ordinal features to prevent the model from assuming non existing relationships.                      \r",
    "5r\n"
   ]
  },
  {
   "cell_type": "markdown",
   "id": "5a8af42c-ee42-450f-911e-5ac87a246a7c",
   "metadata": {},
   "source": [
    "### sciki-learn provides transformers for both ordinal ( OrdinalEncoder() ) and one hot encoding ( OneHotEncoder() ). Although, for the method of one hot a built in pandas function will be used instead. "
   ]
  },
  {
   "cell_type": "code",
   "execution_count": 22,
   "id": "a1522c79-f4ee-4d7d-bfe1-2f214135b2dd",
   "metadata": {},
   "outputs": [
    {
     "name": "stdout",
     "output_type": "stream",
     "text": [
      "fried\n",
      "Pre-frail    223\n",
      "Non frail    208\n",
      "Frail         95\n",
      "Name: count, dtype: int64\n",
      "\n",
      "\n",
      "gender\n",
      "F    320\n",
      "M    206\n",
      "Name: count, dtype: int64\n",
      "\n",
      "\n",
      "ortho_hypotension\n",
      "No     459\n",
      "Yes     67\n",
      "Name: count, dtype: int64\n",
      "\n",
      "\n",
      "vision\n",
      "Sees well          355\n",
      "Sees moderately    147\n",
      "Sees poorly         24\n",
      "Name: count, dtype: int64\n",
      "\n",
      "\n",
      "audition\n",
      "Hears well          382\n",
      "Hears moderately    116\n",
      "Hears poorly         28\n",
      "Name: count, dtype: int64\n",
      "\n",
      "\n",
      "weight_loss\n",
      "No     483\n",
      "Yes     43\n",
      "Name: count, dtype: int64\n",
      "\n",
      "\n",
      "balance_single\n",
      ">5 sec    325\n",
      "<5 sec    155\n",
      "None       46\n",
      "Name: count, dtype: int64\n",
      "\n",
      "\n",
      "gait_optional_binary\n",
      "False    482\n",
      "True      44\n",
      "Name: count, dtype: int64\n",
      "\n",
      "\n",
      "gait_speed_slower\n",
      "No     379\n",
      "Yes    147\n",
      "Name: count, dtype: int64\n",
      "\n",
      "\n",
      "grip_strength_abnormal\n",
      "No     293\n",
      "Yes    233\n",
      "Name: count, dtype: int64\n",
      "\n",
      "\n",
      "low_physical_activity\n",
      "No     443\n",
      "Yes     83\n",
      "Name: count, dtype: int64\n",
      "\n",
      "\n",
      "memory_complain\n",
      "No      389\n",
      "Yes     100\n",
      "None     37\n",
      "Name: count, dtype: int64\n",
      "\n",
      "\n",
      "sleep\n",
      "No sleep problem            293\n",
      "Occasional sleep problem    139\n",
      "Permanent sleep problem      94\n",
      "Name: count, dtype: int64\n",
      "\n",
      "\n",
      "living_alone\n",
      "No     366\n",
      "Yes    160\n",
      "Name: count, dtype: int64\n",
      "\n",
      "\n",
      "leisure_club\n",
      "Yes    338\n",
      "No     188\n",
      "Name: count, dtype: int64\n",
      "\n",
      "\n",
      "house_suitable_participant\n",
      "Yes     414\n",
      "None     93\n",
      "No       19\n",
      "Name: count, dtype: int64\n",
      "\n",
      "\n",
      "house_suitable_professional\n",
      "Yes     410\n",
      "None     93\n",
      "No       23\n",
      "Name: count, dtype: int64\n",
      "\n",
      "\n",
      "health_rate\n",
      "4 - Good         275\n",
      "3 - Medium       170\n",
      "5 - Excellent     55\n",
      "2 - Bad           24\n",
      "1 - Very bad       2\n",
      "Name: count, dtype: int64\n",
      "\n",
      "\n",
      "health_rate_comparison\n",
      "3 - About the same     321\n",
      "2 - A little worse     120\n",
      "4 - A little better     56\n",
      "1 - A lot worse         15\n",
      "5 - A lot better        14\n",
      "Name: count, dtype: int64\n",
      "\n",
      "\n",
      "activity_regular\n",
      "> 2 h and < 5 h per week    171\n",
      "> 5 h per week              168\n",
      "< 2 h per week              142\n",
      "No                           45\n",
      "Name: count, dtype: int64\n",
      "\n",
      "\n",
      "smoking\n",
      "Never smoked                               302\n",
      "Past smoker (stopped at least 6 months)    175\n",
      "Current smoker                              49\n",
      "Name: count, dtype: int64\n",
      "\n",
      "\n"
     ]
    }
   ],
   "source": [
    "for categorical_name in categorical_column_names:\n",
    "    print(clinical[categorical_name].value_counts())\n",
    "    print(\"\\n\")\n",
    "   "
   ]
  },
  {
   "cell_type": "code",
   "execution_count": 23,
   "id": "f7982c27-d097-4a43-b374-e5b407300d26",
   "metadata": {},
   "outputs": [],
   "source": [
    "from sklearn.preprocessing import OrdinalEncoder\n",
    "import numpy as np\n",
    "# the dictionary keys specify the column and the values specify the order\n",
    "ordinal_categorical_features_dict = {'fried':['Non frail','Pre-frail','Frail'],\n",
    "                                     'gender':['F','M'],\n",
    "                                     'ortho_hypotension':['No','Yes'],\n",
    "                                     'vision':['Sees poorly','Sees moderately','Sees well'],\n",
    "                                     'audition':['Hears poorly','Hears moderately','Hears well'],\n",
    "                                     'weight_loss':['No','Yes'],\n",
    "                                     'balance_single':['<5 sec','>5 sec','None'],\n",
    "                                     'gait_optional_binary':[False,True],\n",
    "                                     'gait_speed_slower':['No','Yes'],\n",
    "                                     'grip_strength_abnormal':['No','Yes'],\n",
    "                                     'low_physical_activity':['No','Yes'],\n",
    "                                     'memory_complain':['No','Yes','None'],\n",
    "                                     'sleep':['No sleep problem','Occasional sleep problem','Permanent sleep problem'],\n",
    "                                     'living_alone':['No','Yes'],\n",
    "                                     'leisure_club':['No','Yes'],\n",
    "                                     'house_suitable_participant':['No','Yes','None'],\n",
    "                                     'house_suitable_professional':['No','Yes','None'],\n",
    "                                     'health_rate':['1 - Very bad','2 - Bad','3 - Medium','4 - Good','5 - Excellent'],\n",
    "                                     'health_rate_comparison':['1 - A lot worse','2 - A little worse','3 - About the same','4 - A little better','5 - A lot better'],\n",
    "                                     'activity_regular':['No','< 2 h per week','> 2 h and < 5 h per week','> 5 h per week']\n",
    "                                    }\n",
    "\n",
    "for column in ordinal_categorical_features_dict:\n",
    "    encoder = OrdinalEncoder(categories=[ordinal_categorical_features_dict[column]],dtype=int)\n",
    "    data = clinical[column].values.reshape(-1, 1)\n",
    "    clinical[column] = encoder.fit_transform(data)  #encoded column\n",
    "    \n",
    "\n"
   ]
  },
  {
   "cell_type": "code",
   "execution_count": 24,
   "id": "e7fcf994-9d89-4529-8432-b04be6225101",
   "metadata": {},
   "outputs": [
    {
     "name": "stdout",
     "output_type": "stream",
     "text": [
      "fried\n",
      "1    223\n",
      "0    208\n",
      "2     95\n",
      "Name: count, dtype: int64\n",
      "\n",
      "\n",
      "gender\n",
      "0    320\n",
      "1    206\n",
      "Name: count, dtype: int64\n",
      "\n",
      "\n",
      "ortho_hypotension\n",
      "0    459\n",
      "1     67\n",
      "Name: count, dtype: int64\n",
      "\n",
      "\n",
      "vision\n",
      "2    355\n",
      "1    147\n",
      "0     24\n",
      "Name: count, dtype: int64\n",
      "\n",
      "\n",
      "audition\n",
      "2    382\n",
      "1    116\n",
      "0     28\n",
      "Name: count, dtype: int64\n",
      "\n",
      "\n",
      "weight_loss\n",
      "0    483\n",
      "1     43\n",
      "Name: count, dtype: int64\n",
      "\n",
      "\n",
      "balance_single\n",
      "1    325\n",
      "0    155\n",
      "2     46\n",
      "Name: count, dtype: int64\n",
      "\n",
      "\n",
      "gait_optional_binary\n",
      "0    482\n",
      "1     44\n",
      "Name: count, dtype: int64\n",
      "\n",
      "\n",
      "gait_speed_slower\n",
      "0    379\n",
      "1    147\n",
      "Name: count, dtype: int64\n",
      "\n",
      "\n",
      "grip_strength_abnormal\n",
      "0    293\n",
      "1    233\n",
      "Name: count, dtype: int64\n",
      "\n",
      "\n",
      "low_physical_activity\n",
      "0    443\n",
      "1     83\n",
      "Name: count, dtype: int64\n",
      "\n",
      "\n",
      "memory_complain\n",
      "0    389\n",
      "1    100\n",
      "2     37\n",
      "Name: count, dtype: int64\n",
      "\n",
      "\n",
      "sleep\n",
      "0    293\n",
      "1    139\n",
      "2     94\n",
      "Name: count, dtype: int64\n",
      "\n",
      "\n",
      "living_alone\n",
      "0    366\n",
      "1    160\n",
      "Name: count, dtype: int64\n",
      "\n",
      "\n",
      "leisure_club\n",
      "1    338\n",
      "0    188\n",
      "Name: count, dtype: int64\n",
      "\n",
      "\n",
      "house_suitable_participant\n",
      "1    414\n",
      "2     93\n",
      "0     19\n",
      "Name: count, dtype: int64\n",
      "\n",
      "\n",
      "house_suitable_professional\n",
      "1    410\n",
      "2     93\n",
      "0     23\n",
      "Name: count, dtype: int64\n",
      "\n",
      "\n",
      "health_rate\n",
      "3    275\n",
      "2    170\n",
      "4     55\n",
      "1     24\n",
      "0      2\n",
      "Name: count, dtype: int64\n",
      "\n",
      "\n",
      "health_rate_comparison\n",
      "2    321\n",
      "1    120\n",
      "3     56\n",
      "0     15\n",
      "4     14\n",
      "Name: count, dtype: int64\n",
      "\n",
      "\n",
      "activity_regular\n",
      "2    171\n",
      "3    168\n",
      "1    142\n",
      "0     45\n",
      "Name: count, dtype: int64\n",
      "\n",
      "\n",
      "smoking\n",
      "Never smoked                               302\n",
      "Past smoker (stopped at least 6 months)    175\n",
      "Current smoker                              49\n",
      "Name: count, dtype: int64\n",
      "\n",
      "\n"
     ]
    }
   ],
   "source": [
    "for column in categorical_column_names:\n",
    "    print(clinical[column].value_counts())\n",
    "    print('\\n')"
   ]
  },
  {
   "cell_type": "code",
   "execution_count": 25,
   "id": "e1e1b9e3-8a2b-4828-81db-26785ee16909",
   "metadata": {},
   "outputs": [
    {
     "data": {
      "text/html": [
       "<div>\n",
       "<style scoped>\n",
       "    .dataframe tbody tr th:only-of-type {\n",
       "        vertical-align: middle;\n",
       "    }\n",
       "\n",
       "    .dataframe tbody tr th {\n",
       "        vertical-align: top;\n",
       "    }\n",
       "\n",
       "    .dataframe thead th {\n",
       "        text-align: right;\n",
       "    }\n",
       "</style>\n",
       "<table border=\"1\" class=\"dataframe\">\n",
       "  <thead>\n",
       "    <tr style=\"text-align: right;\">\n",
       "      <th></th>\n",
       "      <th>part_id</th>\n",
       "      <th>fried</th>\n",
       "      <th>gender</th>\n",
       "      <th>age</th>\n",
       "      <th>hospitalization_one_year</th>\n",
       "      <th>hospitalization_three_years</th>\n",
       "      <th>ortho_hypotension</th>\n",
       "      <th>vision</th>\n",
       "      <th>audition</th>\n",
       "      <th>weight_loss</th>\n",
       "      <th>...</th>\n",
       "      <th>activity_regular</th>\n",
       "      <th>alcohol_units</th>\n",
       "      <th>katz_index</th>\n",
       "      <th>iadl_grade</th>\n",
       "      <th>comorbidities_count</th>\n",
       "      <th>comorbidities_significant_count</th>\n",
       "      <th>medication_count</th>\n",
       "      <th>smoking_Current smoker</th>\n",
       "      <th>smoking_Never smoked</th>\n",
       "      <th>smoking_Past smoker (stopped at least 6 months)</th>\n",
       "    </tr>\n",
       "  </thead>\n",
       "  <tbody>\n",
       "    <tr>\n",
       "      <th>0</th>\n",
       "      <td>1001.0</td>\n",
       "      <td>0</td>\n",
       "      <td>0</td>\n",
       "      <td>75.0</td>\n",
       "      <td>0.0</td>\n",
       "      <td>0.0</td>\n",
       "      <td>0</td>\n",
       "      <td>1</td>\n",
       "      <td>2</td>\n",
       "      <td>0</td>\n",
       "      <td>...</td>\n",
       "      <td>2</td>\n",
       "      <td>1.0</td>\n",
       "      <td>6.0</td>\n",
       "      <td>31.0</td>\n",
       "      <td>5.0</td>\n",
       "      <td>0.0</td>\n",
       "      <td>5.0</td>\n",
       "      <td>0</td>\n",
       "      <td>1</td>\n",
       "      <td>0</td>\n",
       "    </tr>\n",
       "    <tr>\n",
       "      <th>1</th>\n",
       "      <td>1002.0</td>\n",
       "      <td>1</td>\n",
       "      <td>1</td>\n",
       "      <td>73.0</td>\n",
       "      <td>0.0</td>\n",
       "      <td>1.0</td>\n",
       "      <td>0</td>\n",
       "      <td>1</td>\n",
       "      <td>1</td>\n",
       "      <td>0</td>\n",
       "      <td>...</td>\n",
       "      <td>2</td>\n",
       "      <td>14.0</td>\n",
       "      <td>6.0</td>\n",
       "      <td>26.0</td>\n",
       "      <td>12.0</td>\n",
       "      <td>0.0</td>\n",
       "      <td>4.0</td>\n",
       "      <td>0</td>\n",
       "      <td>1</td>\n",
       "      <td>0</td>\n",
       "    </tr>\n",
       "    <tr>\n",
       "      <th>2</th>\n",
       "      <td>1003.0</td>\n",
       "      <td>1</td>\n",
       "      <td>1</td>\n",
       "      <td>72.0</td>\n",
       "      <td>0.0</td>\n",
       "      <td>0.0</td>\n",
       "      <td>0</td>\n",
       "      <td>1</td>\n",
       "      <td>1</td>\n",
       "      <td>0</td>\n",
       "      <td>...</td>\n",
       "      <td>1</td>\n",
       "      <td>21.0</td>\n",
       "      <td>6.0</td>\n",
       "      <td>26.0</td>\n",
       "      <td>9.0</td>\n",
       "      <td>0.0</td>\n",
       "      <td>3.0</td>\n",
       "      <td>0</td>\n",
       "      <td>0</td>\n",
       "      <td>1</td>\n",
       "    </tr>\n",
       "    <tr>\n",
       "      <th>3</th>\n",
       "      <td>1004.0</td>\n",
       "      <td>2</td>\n",
       "      <td>0</td>\n",
       "      <td>88.0</td>\n",
       "      <td>0.0</td>\n",
       "      <td>0.0</td>\n",
       "      <td>0</td>\n",
       "      <td>1</td>\n",
       "      <td>1</td>\n",
       "      <td>0</td>\n",
       "      <td>...</td>\n",
       "      <td>1</td>\n",
       "      <td>21.0</td>\n",
       "      <td>5.5</td>\n",
       "      <td>20.0</td>\n",
       "      <td>11.0</td>\n",
       "      <td>0.0</td>\n",
       "      <td>8.0</td>\n",
       "      <td>0</td>\n",
       "      <td>1</td>\n",
       "      <td>0</td>\n",
       "    </tr>\n",
       "    <tr>\n",
       "      <th>4</th>\n",
       "      <td>1005.0</td>\n",
       "      <td>1</td>\n",
       "      <td>0</td>\n",
       "      <td>83.0</td>\n",
       "      <td>0.0</td>\n",
       "      <td>4.0</td>\n",
       "      <td>1</td>\n",
       "      <td>1</td>\n",
       "      <td>0</td>\n",
       "      <td>0</td>\n",
       "      <td>...</td>\n",
       "      <td>3</td>\n",
       "      <td>0.0</td>\n",
       "      <td>6.0</td>\n",
       "      <td>30.0</td>\n",
       "      <td>12.0</td>\n",
       "      <td>0.0</td>\n",
       "      <td>4.0</td>\n",
       "      <td>1</td>\n",
       "      <td>0</td>\n",
       "      <td>0</td>\n",
       "    </tr>\n",
       "  </tbody>\n",
       "</table>\n",
       "<p>5 rows × 57 columns</p>\n",
       "</div>"
      ],
      "text/plain": [
       "   part_id  fried  gender   age  hospitalization_one_year  \\\n",
       "0   1001.0      0       0  75.0                       0.0   \n",
       "1   1002.0      1       1  73.0                       0.0   \n",
       "2   1003.0      1       1  72.0                       0.0   \n",
       "3   1004.0      2       0  88.0                       0.0   \n",
       "4   1005.0      1       0  83.0                       0.0   \n",
       "\n",
       "   hospitalization_three_years  ortho_hypotension  vision  audition  \\\n",
       "0                          0.0                  0       1         2   \n",
       "1                          1.0                  0       1         1   \n",
       "2                          0.0                  0       1         1   \n",
       "3                          0.0                  0       1         1   \n",
       "4                          4.0                  1       1         0   \n",
       "\n",
       "   weight_loss  ...  activity_regular  alcohol_units  katz_index  iadl_grade  \\\n",
       "0            0  ...                 2            1.0         6.0        31.0   \n",
       "1            0  ...                 2           14.0         6.0        26.0   \n",
       "2            0  ...                 1           21.0         6.0        26.0   \n",
       "3            0  ...                 1           21.0         5.5        20.0   \n",
       "4            0  ...                 3            0.0         6.0        30.0   \n",
       "\n",
       "   comorbidities_count  comorbidities_significant_count  medication_count  \\\n",
       "0                  5.0                              0.0               5.0   \n",
       "1                 12.0                              0.0               4.0   \n",
       "2                  9.0                              0.0               3.0   \n",
       "3                 11.0                              0.0               8.0   \n",
       "4                 12.0                              0.0               4.0   \n",
       "\n",
       "   smoking_Current smoker  smoking_Never smoked  \\\n",
       "0                       0                     1   \n",
       "1                       0                     1   \n",
       "2                       0                     0   \n",
       "3                       0                     1   \n",
       "4                       1                     0   \n",
       "\n",
       "   smoking_Past smoker (stopped at least 6 months)  \n",
       "0                                                0  \n",
       "1                                                0  \n",
       "2                                                1  \n",
       "3                                                0  \n",
       "4                                                0  \n",
       "\n",
       "[5 rows x 57 columns]"
      ]
     },
     "execution_count": 25,
     "metadata": {},
     "output_type": "execute_result"
    }
   ],
   "source": [
    "#lets also encode the last categorical column 'smoking'\n",
    "clinical = pd.get_dummies(data=clinical, columns=['smoking'],dtype=int)   #one hot encoding\n",
    "clinical.head()"
   ]
  },
  {
   "cell_type": "code",
   "execution_count": 26,
   "id": "d6dd417a-1e1f-43e2-bd6c-e6a2c1b749fa",
   "metadata": {},
   "outputs": [
    {
     "name": "stdout",
     "output_type": "stream",
     "text": [
      "<class 'pandas.core.frame.DataFrame'>\n",
      "Index: 526 entries, 0 to 539\n",
      "Data columns (total 57 columns):\n",
      " #   Column                                           Non-Null Count  Dtype  \n",
      "---  ------                                           --------------  -----  \n",
      " 0   part_id                                          526 non-null    float64\n",
      " 1   fried                                            526 non-null    int32  \n",
      " 2   gender                                           526 non-null    int32  \n",
      " 3   age                                              526 non-null    float64\n",
      " 4   hospitalization_one_year                         526 non-null    float64\n",
      " 5   hospitalization_three_years                      526 non-null    float64\n",
      " 6   ortho_hypotension                                526 non-null    int32  \n",
      " 7   vision                                           526 non-null    int32  \n",
      " 8   audition                                         526 non-null    int32  \n",
      " 9   weight_loss                                      526 non-null    int32  \n",
      " 10  exhaustion_score                                 526 non-null    float64\n",
      " 11  raise_chair_time                                 526 non-null    float64\n",
      " 12  balance_single                                   526 non-null    int32  \n",
      " 13  gait_get_up                                      526 non-null    float64\n",
      " 14  gait_speed_4m                                    526 non-null    float64\n",
      " 15  gait_optional_binary                             526 non-null    int32  \n",
      " 16  gait_speed_slower                                526 non-null    int32  \n",
      " 17  grip_strength_abnormal                           526 non-null    int32  \n",
      " 18  low_physical_activity                            526 non-null    int32  \n",
      " 19  falls_one_year                                   526 non-null    float64\n",
      " 20  fractures_three_years                            526 non-null    float64\n",
      " 21  bmi_score                                        526 non-null    float64\n",
      " 22  bmi_body_fat                                     526 non-null    float64\n",
      " 23  waist                                            526 non-null    float64\n",
      " 24  lean_body_mass                                   526 non-null    float64\n",
      " 25  screening_score                                  526 non-null    float64\n",
      " 26  cognitive_total_score                            526 non-null    float64\n",
      " 27  memory_complain                                  526 non-null    int32  \n",
      " 28  sleep                                            526 non-null    int32  \n",
      " 29  mmse_total_score                                 526 non-null    float64\n",
      " 30  depression_total_score                           526 non-null    float64\n",
      " 31  anxiety_perception                               526 non-null    float64\n",
      " 32  living_alone                                     526 non-null    int32  \n",
      " 33  leisure_out                                      526 non-null    float64\n",
      " 34  leisure_club                                     526 non-null    int32  \n",
      " 35  social_visits                                    526 non-null    float64\n",
      " 36  social_calls                                     526 non-null    float64\n",
      " 37  social_phone                                     526 non-null    float64\n",
      " 38  social_skype                                     526 non-null    float64\n",
      " 39  social_text                                      526 non-null    float64\n",
      " 40  house_suitable_participant                       526 non-null    int32  \n",
      " 41  house_suitable_professional                      526 non-null    int32  \n",
      " 42  stairs_number                                    526 non-null    float64\n",
      " 43  life_quality                                     526 non-null    float64\n",
      " 44  health_rate                                      526 non-null    int32  \n",
      " 45  health_rate_comparison                           526 non-null    int32  \n",
      " 46  pain_perception                                  526 non-null    float64\n",
      " 47  activity_regular                                 526 non-null    int32  \n",
      " 48  alcohol_units                                    526 non-null    float64\n",
      " 49  katz_index                                       526 non-null    float64\n",
      " 50  iadl_grade                                       526 non-null    float64\n",
      " 51  comorbidities_count                              526 non-null    float64\n",
      " 52  comorbidities_significant_count                  526 non-null    float64\n",
      " 53  medication_count                                 526 non-null    float64\n",
      " 54  smoking_Current smoker                           526 non-null    int32  \n",
      " 55  smoking_Never smoked                             526 non-null    int32  \n",
      " 56  smoking_Past smoker (stopped at least 6 months)  526 non-null    int32  \n",
      "dtypes: float64(34), int32(23)\n",
      "memory usage: 191.1 KB\n"
     ]
    }
   ],
   "source": [
    "clinical.info()"
   ]
  },
  {
   "cell_type": "markdown",
   "id": "6c518da3-2bfe-4b3d-a8cd-1d8eb555a7fa",
   "metadata": {},
   "source": [
    "### We have successfully encoded the last categorical attribute 'smoking'."
   ]
  },
  {
   "cell_type": "markdown",
   "id": "4abe8062-f77a-4a36-8d74-f390c9fd3103",
   "metadata": {},
   "source": [
    "### There are still missing values in columns 'balance_single', 'memory_complain', 'house_suitable_participant' and 'house_suitable_professional'. These values were filled in with the temporary value 'None' and then they were encoded, in order to overcome the problem that OrdinalEncoder() is unable to deal with missing values. \"None\" is of course not a real category, it is just a placeholder. We have to replace all these values with a true empty value. From the way we chose to construct the dictionary 'ordinal_categorical_features_dict' we see that the \"None\" values have been encoded with the value 2."
   ]
  },
  {
   "cell_type": "code",
   "execution_count": 27,
   "id": "8730d729-d3e8-4fd4-910a-2b4cbf1079c1",
   "metadata": {},
   "outputs": [],
   "source": [
    "clinical['balance_single'] = clinical['balance_single'].apply(lambda x: None if x == 2 else x)\n",
    "clinical['memory_complain'] = clinical['memory_complain'].apply(lambda x: None if x == 2 else x)\n",
    "clinical['house_suitable_participant'] = clinical['house_suitable_participant'].apply(lambda x: None if x == 2 else x)\n",
    "clinical['house_suitable_professional'] = clinical['house_suitable_professional'].apply(lambda x: None if x == 2 else x)\n",
    "\n"
   ]
  },
  {
   "cell_type": "code",
   "execution_count": 28,
   "id": "8f765543-f6a5-4bdd-919f-bb9434f55a0f",
   "metadata": {},
   "outputs": [
    {
     "name": "stdout",
     "output_type": "stream",
     "text": [
      "balance_single                 46\n",
      "memory_complain                37\n",
      "house_suitable_participant     93\n",
      "house_suitable_professional    93\n",
      "dtype: int64\n"
     ]
    }
   ],
   "source": [
    "null_counts_categorical = clinical[['balance_single','memory_complain','house_suitable_participant','house_suitable_professional']].isna().sum()\n",
    "\n",
    "print(null_counts_categorical)"
   ]
  },
  {
   "cell_type": "markdown",
   "id": "fa3adcc3-98a7-4a0a-ae3e-327a99703d6b",
   "metadata": {},
   "source": [
    "### We have reached the point where it is time to create the sub - datasets on which we are going to train models to predict the missing categorical values on the features seen above. To obtain these datasets we need to filter the clinical dataset and retain only the rows that have no missing values and the reason is, as discussed before, that the classifiers cannnot be trained on empty values. Column 'part_id' exists just to index each instance - user and it has nothing to do with the predicted values. Therefore it is dropped. If we choose to keep it, the models might actually find patterns (relative to the values in column 'part_id') that don't exist resulting in models with worse performance."
   ]
  },
  {
   "cell_type": "code",
   "execution_count": 29,
   "id": "1694a91f-bc75-4e41-9460-e2318c74b55c",
   "metadata": {},
   "outputs": [],
   "source": [
    "clinical_no_id = clinical.drop(columns='part_id')"
   ]
  },
  {
   "cell_type": "code",
   "execution_count": 30,
   "id": "5ac56499-72ca-4bb4-8045-795c67be120c",
   "metadata": {},
   "outputs": [],
   "source": [
    "sub_set = clinical_no_id.dropna(subset=['balance_single','memory_complain','house_suitable_participant','house_suitable_professional'])"
   ]
  },
  {
   "cell_type": "code",
   "execution_count": 31,
   "id": "bf2c9e13-8551-433c-8ca0-e8e7a400c286",
   "metadata": {},
   "outputs": [
    {
     "name": "stdout",
     "output_type": "stream",
     "text": [
      "<class 'pandas.core.frame.DataFrame'>\n",
      "Index: 353 entries, 0 to 539\n",
      "Data columns (total 56 columns):\n",
      " #   Column                                           Non-Null Count  Dtype  \n",
      "---  ------                                           --------------  -----  \n",
      " 0   fried                                            353 non-null    int32  \n",
      " 1   gender                                           353 non-null    int32  \n",
      " 2   age                                              353 non-null    float64\n",
      " 3   hospitalization_one_year                         353 non-null    float64\n",
      " 4   hospitalization_three_years                      353 non-null    float64\n",
      " 5   ortho_hypotension                                353 non-null    int32  \n",
      " 6   vision                                           353 non-null    int32  \n",
      " 7   audition                                         353 non-null    int32  \n",
      " 8   weight_loss                                      353 non-null    int32  \n",
      " 9   exhaustion_score                                 353 non-null    float64\n",
      " 10  raise_chair_time                                 353 non-null    float64\n",
      " 11  balance_single                                   353 non-null    float64\n",
      " 12  gait_get_up                                      353 non-null    float64\n",
      " 13  gait_speed_4m                                    353 non-null    float64\n",
      " 14  gait_optional_binary                             353 non-null    int32  \n",
      " 15  gait_speed_slower                                353 non-null    int32  \n",
      " 16  grip_strength_abnormal                           353 non-null    int32  \n",
      " 17  low_physical_activity                            353 non-null    int32  \n",
      " 18  falls_one_year                                   353 non-null    float64\n",
      " 19  fractures_three_years                            353 non-null    float64\n",
      " 20  bmi_score                                        353 non-null    float64\n",
      " 21  bmi_body_fat                                     353 non-null    float64\n",
      " 22  waist                                            353 non-null    float64\n",
      " 23  lean_body_mass                                   353 non-null    float64\n",
      " 24  screening_score                                  353 non-null    float64\n",
      " 25  cognitive_total_score                            353 non-null    float64\n",
      " 26  memory_complain                                  353 non-null    float64\n",
      " 27  sleep                                            353 non-null    int32  \n",
      " 28  mmse_total_score                                 353 non-null    float64\n",
      " 29  depression_total_score                           353 non-null    float64\n",
      " 30  anxiety_perception                               353 non-null    float64\n",
      " 31  living_alone                                     353 non-null    int32  \n",
      " 32  leisure_out                                      353 non-null    float64\n",
      " 33  leisure_club                                     353 non-null    int32  \n",
      " 34  social_visits                                    353 non-null    float64\n",
      " 35  social_calls                                     353 non-null    float64\n",
      " 36  social_phone                                     353 non-null    float64\n",
      " 37  social_skype                                     353 non-null    float64\n",
      " 38  social_text                                      353 non-null    float64\n",
      " 39  house_suitable_participant                       353 non-null    float64\n",
      " 40  house_suitable_professional                      353 non-null    float64\n",
      " 41  stairs_number                                    353 non-null    float64\n",
      " 42  life_quality                                     353 non-null    float64\n",
      " 43  health_rate                                      353 non-null    int32  \n",
      " 44  health_rate_comparison                           353 non-null    int32  \n",
      " 45  pain_perception                                  353 non-null    float64\n",
      " 46  activity_regular                                 353 non-null    int32  \n",
      " 47  alcohol_units                                    353 non-null    float64\n",
      " 48  katz_index                                       353 non-null    float64\n",
      " 49  iadl_grade                                       353 non-null    float64\n",
      " 50  comorbidities_count                              353 non-null    float64\n",
      " 51  comorbidities_significant_count                  353 non-null    float64\n",
      " 52  medication_count                                 353 non-null    float64\n",
      " 53  smoking_Current smoker                           353 non-null    int32  \n",
      " 54  smoking_Never smoked                             353 non-null    int32  \n",
      " 55  smoking_Past smoker (stopped at least 6 months)  353 non-null    int32  \n",
      "dtypes: float64(37), int32(19)\n",
      "memory usage: 131.0 KB\n"
     ]
    }
   ],
   "source": [
    "sub_set.info()"
   ]
  },
  {
   "cell_type": "markdown",
   "id": "cbf93137-5ad9-4557-ad3e-cdffcf48b2c4",
   "metadata": {},
   "source": [
    "### We see that it results in a data frame consisting of 353 entries, meaning that we have dropped 173 rows."
   ]
  },
  {
   "cell_type": "markdown",
   "id": "7d8711b9-43a1-42e9-bf05-d0113f6f6b9d",
   "metadata": {},
   "source": [
    "###  We have not yet checked the numerical features scales and whether scaling is required or not. We will have to do so before the final classification, but for now because random forest models are insensitive to feature scales we can continue with the training."
   ]
  },
  {
   "cell_type": "markdown",
   "id": "d1461e26-57e4-4167-a1ad-8b7958077e25",
   "metadata": {},
   "source": [
    "### From the sub_set dataset, four different datasets (eight if we also consider the labels) will be derived, one for each of the columns that contain the missing values. For example, to create the set (X) for 'balance_single' we need to drop the column 'balance_single' and assign it in a different variable (y) as it contains the labels -values to be predicted-. The process is similar for the rest of the columns. Having separated the data from the labels, we need to further separate the X and y sets into train and test sets. To do so, scikit learn's train_test_split() class is used."
   ]
  },
  {
   "cell_type": "markdown",
   "id": "ab8858d3-faac-4ca8-8eb8-3d3beab19c74",
   "metadata": {},
   "source": [
    "### Finally, we create and train RandomForestClassifiers on the the training sets."
   ]
  },
  {
   "cell_type": "code",
   "execution_count": 32,
   "id": "d9b26256-ded5-4de0-8350-d64fcb25d67d",
   "metadata": {},
   "outputs": [
    {
     "data": {
      "text/html": [
       "<style>#sk-container-id-1 {color: black;}#sk-container-id-1 pre{padding: 0;}#sk-container-id-1 div.sk-toggleable {background-color: white;}#sk-container-id-1 label.sk-toggleable__label {cursor: pointer;display: block;width: 100%;margin-bottom: 0;padding: 0.3em;box-sizing: border-box;text-align: center;}#sk-container-id-1 label.sk-toggleable__label-arrow:before {content: \"▸\";float: left;margin-right: 0.25em;color: #696969;}#sk-container-id-1 label.sk-toggleable__label-arrow:hover:before {color: black;}#sk-container-id-1 div.sk-estimator:hover label.sk-toggleable__label-arrow:before {color: black;}#sk-container-id-1 div.sk-toggleable__content {max-height: 0;max-width: 0;overflow: hidden;text-align: left;background-color: #f0f8ff;}#sk-container-id-1 div.sk-toggleable__content pre {margin: 0.2em;color: black;border-radius: 0.25em;background-color: #f0f8ff;}#sk-container-id-1 input.sk-toggleable__control:checked~div.sk-toggleable__content {max-height: 200px;max-width: 100%;overflow: auto;}#sk-container-id-1 input.sk-toggleable__control:checked~label.sk-toggleable__label-arrow:before {content: \"▾\";}#sk-container-id-1 div.sk-estimator input.sk-toggleable__control:checked~label.sk-toggleable__label {background-color: #d4ebff;}#sk-container-id-1 div.sk-label input.sk-toggleable__control:checked~label.sk-toggleable__label {background-color: #d4ebff;}#sk-container-id-1 input.sk-hidden--visually {border: 0;clip: rect(1px 1px 1px 1px);clip: rect(1px, 1px, 1px, 1px);height: 1px;margin: -1px;overflow: hidden;padding: 0;position: absolute;width: 1px;}#sk-container-id-1 div.sk-estimator {font-family: monospace;background-color: #f0f8ff;border: 1px dotted black;border-radius: 0.25em;box-sizing: border-box;margin-bottom: 0.5em;}#sk-container-id-1 div.sk-estimator:hover {background-color: #d4ebff;}#sk-container-id-1 div.sk-parallel-item::after {content: \"\";width: 100%;border-bottom: 1px solid gray;flex-grow: 1;}#sk-container-id-1 div.sk-label:hover label.sk-toggleable__label {background-color: #d4ebff;}#sk-container-id-1 div.sk-serial::before {content: \"\";position: absolute;border-left: 1px solid gray;box-sizing: border-box;top: 0;bottom: 0;left: 50%;z-index: 0;}#sk-container-id-1 div.sk-serial {display: flex;flex-direction: column;align-items: center;background-color: white;padding-right: 0.2em;padding-left: 0.2em;position: relative;}#sk-container-id-1 div.sk-item {position: relative;z-index: 1;}#sk-container-id-1 div.sk-parallel {display: flex;align-items: stretch;justify-content: center;background-color: white;position: relative;}#sk-container-id-1 div.sk-item::before, #sk-container-id-1 div.sk-parallel-item::before {content: \"\";position: absolute;border-left: 1px solid gray;box-sizing: border-box;top: 0;bottom: 0;left: 50%;z-index: -1;}#sk-container-id-1 div.sk-parallel-item {display: flex;flex-direction: column;z-index: 1;position: relative;background-color: white;}#sk-container-id-1 div.sk-parallel-item:first-child::after {align-self: flex-end;width: 50%;}#sk-container-id-1 div.sk-parallel-item:last-child::after {align-self: flex-start;width: 50%;}#sk-container-id-1 div.sk-parallel-item:only-child::after {width: 0;}#sk-container-id-1 div.sk-dashed-wrapped {border: 1px dashed gray;margin: 0 0.4em 0.5em 0.4em;box-sizing: border-box;padding-bottom: 0.4em;background-color: white;}#sk-container-id-1 div.sk-label label {font-family: monospace;font-weight: bold;display: inline-block;line-height: 1.2em;}#sk-container-id-1 div.sk-label-container {text-align: center;}#sk-container-id-1 div.sk-container {/* jupyter's `normalize.less` sets `[hidden] { display: none; }` but bootstrap.min.css set `[hidden] { display: none !important; }` so we also need the `!important` here to be able to override the default hidden behavior on the sphinx rendered scikit-learn.org. See: https://github.com/scikit-learn/scikit-learn/issues/21755 */display: inline-block !important;position: relative;}#sk-container-id-1 div.sk-text-repr-fallback {display: none;}</style><div id=\"sk-container-id-1\" class=\"sk-top-container\"><div class=\"sk-text-repr-fallback\"><pre>RandomForestClassifier(n_estimators=200, n_jobs=-1)</pre><b>In a Jupyter environment, please rerun this cell to show the HTML representation or trust the notebook. <br />On GitHub, the HTML representation is unable to render, please try loading this page with nbviewer.org.</b></div><div class=\"sk-container\" hidden><div class=\"sk-item\"><div class=\"sk-estimator sk-toggleable\"><input class=\"sk-toggleable__control sk-hidden--visually\" id=\"sk-estimator-id-1\" type=\"checkbox\" checked><label for=\"sk-estimator-id-1\" class=\"sk-toggleable__label sk-toggleable__label-arrow\">RandomForestClassifier</label><div class=\"sk-toggleable__content\"><pre>RandomForestClassifier(n_estimators=200, n_jobs=-1)</pre></div></div></div></div></div>"
      ],
      "text/plain": [
       "RandomForestClassifier(n_estimators=200, n_jobs=-1)"
      ]
     },
     "execution_count": 32,
     "metadata": {},
     "output_type": "execute_result"
    }
   ],
   "source": [
    "from sklearn.model_selection import train_test_split\n",
    "from sklearn.ensemble import RandomForestClassifier\n",
    "X_balance_single, y_balance_single = sub_set.drop(columns='balance_single'), sub_set['balance_single']\n",
    "X_memory_complain, y_memory_complain = sub_set.drop(columns='memory_complain'), sub_set['memory_complain']\n",
    "X_house_suitable_participant, y_house_suitable_participant = sub_set.drop(columns='house_suitable_participant'), sub_set['house_suitable_participant']\n",
    "X_house_suitable_professional, y_house_suitable_professional = sub_set.drop(columns='house_suitable_professional'), sub_set['house_suitable_professional']\n",
    "\n",
    "X_train_balance_single , X_test_balance_single , y_train_balance_single, y_test_balance_single = train_test_split(X_balance_single, y_balance_single, test_size=0.2, random_state=42 )\n",
    "\n",
    "X_train_memory_complain , X_test_memory_complain , y_train_memory_complain, y_test_memory_complain = train_test_split(X_memory_complain, y_memory_complain, test_size=0.2, random_state=42 )\n",
    "\n",
    "X_train_house_suitable_participant , X_test_house_suitable_participant , y_train_house_suitable_participant, y_test_house_suitable_participant = train_test_split(X_house_suitable_participant, y_house_suitable_participant, test_size=0.2, random_state=42 )\n",
    "\n",
    "X_train_house_suitable_professional , X_test_house_suitable_professional , y_train_house_suitable_professional, y_test_house_suitable_professional = train_test_split(X_house_suitable_professional, y_house_suitable_professional, test_size=0.2, random_state=42 )\n",
    "\n",
    "# ALTHOUGH WE STARTED WITH A COMMON DATASET NAMED SUB_SET, DUE TO THE RANDOM NATURE OF THE TRAIN TEST SPLIT CLASS, WE NOW HAVE SLIGHTLY DIFFERENT TRAIN SETS FOR EACH MODEL TO BE TRAINED ON\n",
    "\n",
    "model_balance_single = RandomForestClassifier(n_estimators=200, n_jobs=-1)\n",
    "model_memory_complain = RandomForestClassifier(n_estimators=200, n_jobs=-1)\n",
    "model_house_suitable_participant = RandomForestClassifier(n_estimators=200, n_jobs=-1)\n",
    "model_house_suitable_professional = RandomForestClassifier(n_estimators=200, n_jobs=-1)\n",
    "\n",
    "model_balance_single.fit(X_train_balance_single, y_train_balance_single)\n",
    "model_memory_complain.fit(X_train_memory_complain,y_train_memory_complain)\n",
    "model_house_suitable_participant.fit(X_train_house_suitable_participant,y_train_house_suitable_participant) \n",
    "model_house_suitable_professional.fit(X_train_house_suitable_professional, y_train_house_suitable_professional) \n",
    "\n",
    "\n",
    "\n",
    "\n",
    "\n",
    "\n"
   ]
  },
  {
   "cell_type": "markdown",
   "id": "a578012e-f6b0-4899-8228-9f1ddd4da7f7",
   "metadata": {},
   "source": [
    "### Cross validation is used to validate the performance of the models which is then visualized using confusion matrices and classification reports. In more detail, to perform cross validation cross_val_predict() class from sklearn is used. We specify the model, the train set, the labels and the number of folds. Then a typical cross validation is performed but instead of returning scores, cross_val_predict() returns predictions on the instances of the train set. The predictions are compared to the labels (ground truth) and from that, a confusion matrix and a classification report can be estimated for each of the models."
   ]
  },
  {
   "cell_type": "code",
   "execution_count": 33,
   "id": "f83d8ae5-1316-4e62-8814-5aa7b3293097",
   "metadata": {},
   "outputs": [
    {
     "name": "stdout",
     "output_type": "stream",
     "text": [
      "balance_single\n",
      "              precision    recall  f1-score   support\n",
      "\n",
      "         0.0       0.65      0.40      0.49        88\n",
      "         1.0       0.77      0.90      0.83       194\n",
      "\n",
      "    accuracy                           0.74       282\n",
      "   macro avg       0.71      0.65      0.66       282\n",
      "weighted avg       0.73      0.74      0.72       282\n",
      "\n",
      "memory_complain\n",
      "              precision    recall  f1-score   support\n",
      "\n",
      "         0.0       0.79      0.99      0.88       224\n",
      "         1.0       0.00      0.00      0.00        58\n",
      "\n",
      "    accuracy                           0.79       282\n",
      "   macro avg       0.40      0.50      0.44       282\n",
      "weighted avg       0.63      0.79      0.70       282\n",
      "\n",
      "house_suitable_participant\n",
      "              precision    recall  f1-score   support\n",
      "\n",
      "         0.0       0.00      0.00      0.00        10\n",
      "         1.0       0.96      1.00      0.98       272\n",
      "\n",
      "    accuracy                           0.96       282\n",
      "   macro avg       0.48      0.50      0.49       282\n",
      "weighted avg       0.93      0.96      0.95       282\n",
      "\n",
      "house_suitable_professional\n",
      "              precision    recall  f1-score   support\n",
      "\n",
      "         0.0       0.00      0.00      0.00        15\n",
      "         1.0       0.95      1.00      0.97       267\n",
      "\n",
      "    accuracy                           0.95       282\n",
      "   macro avg       0.47      0.50      0.49       282\n",
      "weighted avg       0.90      0.95      0.92       282\n",
      "\n"
     ]
    },
    {
     "name": "stderr",
     "output_type": "stream",
     "text": [
      "C:\\Users\\Θανάσης\\AppData\\Local\\Programs\\Python\\Python311\\Lib\\site-packages\\sklearn\\metrics\\_classification.py:1471: UndefinedMetricWarning: Precision and F-score are ill-defined and being set to 0.0 in labels with no predicted samples. Use `zero_division` parameter to control this behavior.\n",
      "  _warn_prf(average, modifier, msg_start, len(result))\n",
      "C:\\Users\\Θανάσης\\AppData\\Local\\Programs\\Python\\Python311\\Lib\\site-packages\\sklearn\\metrics\\_classification.py:1471: UndefinedMetricWarning: Precision and F-score are ill-defined and being set to 0.0 in labels with no predicted samples. Use `zero_division` parameter to control this behavior.\n",
      "  _warn_prf(average, modifier, msg_start, len(result))\n",
      "C:\\Users\\Θανάσης\\AppData\\Local\\Programs\\Python\\Python311\\Lib\\site-packages\\sklearn\\metrics\\_classification.py:1471: UndefinedMetricWarning: Precision and F-score are ill-defined and being set to 0.0 in labels with no predicted samples. Use `zero_division` parameter to control this behavior.\n",
      "  _warn_prf(average, modifier, msg_start, len(result))\n",
      "C:\\Users\\Θανάσης\\AppData\\Local\\Programs\\Python\\Python311\\Lib\\site-packages\\sklearn\\metrics\\_classification.py:1471: UndefinedMetricWarning: Precision and F-score are ill-defined and being set to 0.0 in labels with no predicted samples. Use `zero_division` parameter to control this behavior.\n",
      "  _warn_prf(average, modifier, msg_start, len(result))\n",
      "C:\\Users\\Θανάσης\\AppData\\Local\\Programs\\Python\\Python311\\Lib\\site-packages\\sklearn\\metrics\\_classification.py:1471: UndefinedMetricWarning: Precision and F-score are ill-defined and being set to 0.0 in labels with no predicted samples. Use `zero_division` parameter to control this behavior.\n",
      "  _warn_prf(average, modifier, msg_start, len(result))\n",
      "C:\\Users\\Θανάσης\\AppData\\Local\\Programs\\Python\\Python311\\Lib\\site-packages\\sklearn\\metrics\\_classification.py:1471: UndefinedMetricWarning: Precision and F-score are ill-defined and being set to 0.0 in labels with no predicted samples. Use `zero_division` parameter to control this behavior.\n",
      "  _warn_prf(average, modifier, msg_start, len(result))\n"
     ]
    },
    {
     "data": {
      "image/png": "[encoded data removed]",
      "text/plain": [
       "<Figure size 640x480 with 2 Axes>"
      ]
     },
     "metadata": {},
     "output_type": "display_data"
    },
    {
     "data": {
      "image/png": "[encoded data removed]",
      "text/plain": [
       "<Figure size 640x480 with 2 Axes>"
      ]
     },
     "metadata": {},
     "output_type": "display_data"
    },
    {
     "data": {
      "image/png": "[encoded data removed]",
      "text/plain": [
       "<Figure size 640x480 with 2 Axes>"
      ]
     },
     "metadata": {},
     "output_type": "display_data"
    },
    {
     "data": {
      "image/png": "[encoded data removed]",
      "text/plain": [
       "<Figure size 640x480 with 2 Axes>"
      ]
     },
     "metadata": {},
     "output_type": "display_data"
    }
   ],
   "source": [
    "from sklearn.model_selection import cross_val_predict\n",
    "from sklearn.metrics import confusion_matrix, ConfusionMatrixDisplay, classification_report\n",
    "\n",
    "y_train_pred_balance_single = cross_val_predict(model_balance_single, X_train_balance_single, y_train_balance_single, cv=3)\n",
    "y_train_pred_memory_complain = cross_val_predict(model_memory_complain, X_train_memory_complain,y_train_memory_complain, cv=3)\n",
    "y_train_pred_house_suitable_participant = cross_val_predict(model_house_suitable_participant, X_train_house_suitable_participant,y_train_house_suitable_participant, cv=3)\n",
    "y_train_pred_house_suitable_professional = cross_val_predict(model_house_suitable_professional, X_train_house_suitable_professional, y_train_house_suitable_professional, cv=3)\n",
    "\n",
    "\n",
    "cm_balance_single = confusion_matrix( y_train_balance_single, y_train_pred_balance_single)\n",
    "cm_memory_complain = confusion_matrix(y_train_memory_complain, y_train_pred_memory_complain)\n",
    "cm_house_suitable_participant = confusion_matrix(y_train_house_suitable_participant, y_train_pred_house_suitable_participant)\n",
    "cm_house_suitable_professional = confusion_matrix(y_train_house_suitable_professional, y_train_pred_house_suitable_professional)\n",
    "\n",
    "\n",
    "print(\"balance_single\")\n",
    "ConfusionMatrixDisplay(cm_balance_single, display_labels=model_balance_single.classes_).plot()\n",
    "print(classification_report(y_train_balance_single, y_train_pred_balance_single))\n",
    "\n",
    "\n",
    "print(\"memory_complain\")\n",
    "ConfusionMatrixDisplay(cm_memory_complain, display_labels=model_memory_complain.classes_).plot()\n",
    "print(classification_report(y_train_memory_complain, y_train_pred_memory_complain))\n",
    "\n",
    "\n",
    "print(\"house_suitable_participant\")\n",
    "ConfusionMatrixDisplay(cm_house_suitable_participant, display_labels=model_house_suitable_participant.classes_).plot()\n",
    "print(classification_report(y_train_house_suitable_participant, y_train_pred_house_suitable_participant))\n",
    "\n",
    "\n",
    "print(\"house_suitable_professional\")\n",
    "ConfusionMatrixDisplay(cm_house_suitable_professional, display_labels=model_house_suitable_professional.classes_).plot()\n",
    "print(classification_report(y_train_house_suitable_professional, y_train_pred_house_suitable_professional))\n",
    "\n",
    "\n"
   ]
  },
  {
   "cell_type": "code",
   "execution_count": 34,
   "id": "f881b081-9b5e-4e36-a02b-5e58514b3e84",
   "metadata": {},
   "outputs": [
    {
     "name": "stdout",
     "output_type": "stream",
     "text": [
      "balance_single\n",
      "1.0    247\n",
      "0.0    106\n",
      "Name: count, dtype: int64\n"
     ]
    }
   ],
   "source": [
    "print(sub_set['balance_single'].value_counts())"
   ]
  },
  {
   "cell_type": "code",
   "execution_count": 35,
   "id": "59d9a9cb-f2e2-4939-928a-b43f6c7e6d1e",
   "metadata": {},
   "outputs": [
    {
     "name": "stdout",
     "output_type": "stream",
     "text": [
      "memory_complain\n",
      "0.0    279\n",
      "1.0     74\n",
      "Name: count, dtype: int64\n"
     ]
    }
   ],
   "source": [
    "print(sub_set['memory_complain'].value_counts())"
   ]
  },
  {
   "cell_type": "code",
   "execution_count": 36,
   "id": "13da0d9a-8925-46c5-9f21-4e7ff36600e1",
   "metadata": {},
   "outputs": [
    {
     "name": "stdout",
     "output_type": "stream",
     "text": [
      "house_suitable_participant\n",
      "1.0    337\n",
      "0.0     16\n",
      "Name: count, dtype: int64\n"
     ]
    }
   ],
   "source": [
    "print(sub_set['house_suitable_participant'].value_counts())"
   ]
  },
  {
   "cell_type": "code",
   "execution_count": 37,
   "id": "ef55d38a-1eb2-4171-9864-8b63db691da3",
   "metadata": {},
   "outputs": [
    {
     "name": "stdout",
     "output_type": "stream",
     "text": [
      "house_suitable_professional\n",
      "1.0    336\n",
      "0.0     17\n",
      "Name: count, dtype: int64\n"
     ]
    }
   ],
   "source": [
    "print(sub_set['house_suitable_professional'].value_counts())"
   ]
  },
  {
   "cell_type": "markdown",
   "id": "04a6af83-7dad-43e9-b983-59d9c119b92c",
   "metadata": {},
   "source": [
    "### The classifier trained to predict 'balance_single' has an excellent performance on class 1 and an adequate performance on class 0. It might worth a grid search to tune it and see if we can end up with an even better performance. The rest of the classifiers are far from ideal, the exhibit the same behavior which consists of classifying every instance to belong to the majority class even if it does not. This is probably happening because as we can see above for each of the features 'memory_complain', 'house_suitable_participant', 'house_suitable_professional' there is a big class imbalance between the classes, especially for 'house_suitable_professional' and 'house_suitable_participant'. Because of that, there are not enough training instances of some classes resulting in the model not having the ability to predict them. Using those three models to fill in the values would basically be the same as filling the missing values with the most frequent value (which we are going to do), so their usage is unnecessary."
   ]
  },
  {
   "cell_type": "markdown",
   "id": "a5b7fc4f-0344-4218-b574-99e9efc44610",
   "metadata": {},
   "source": [
    "### In summary, we are going to predict only the feature 'balance_single', and the missing values on all the other features will be imputed using the most frequent class."
   ]
  },
  {
   "cell_type": "markdown",
   "id": "a5c71b93-cfbb-4532-8511-7603c91a29e1",
   "metadata": {},
   "source": [
    "### Filling missing values in 'memory_complain', 'house_suitable_participant', 'house_suitable_professional' with the most frequent category for each feature."
   ]
  },
  {
   "cell_type": "code",
   "execution_count": 38,
   "id": "a46ddf39-6731-4e96-84a9-a1215b75017e",
   "metadata": {},
   "outputs": [
    {
     "name": "stdout",
     "output_type": "stream",
     "text": [
      "part_id                                             0\n",
      "fried                                               0\n",
      "gender                                              0\n",
      "age                                                 0\n",
      "hospitalization_one_year                            0\n",
      "hospitalization_three_years                         0\n",
      "ortho_hypotension                                   0\n",
      "vision                                              0\n",
      "audition                                            0\n",
      "weight_loss                                         0\n",
      "exhaustion_score                                    0\n",
      "raise_chair_time                                    0\n",
      "balance_single                                     46\n",
      "gait_get_up                                         0\n",
      "gait_speed_4m                                       0\n",
      "gait_optional_binary                                0\n",
      "gait_speed_slower                                   0\n",
      "grip_strength_abnormal                              0\n",
      "low_physical_activity                               0\n",
      "falls_one_year                                      0\n",
      "fractures_three_years                               0\n",
      "bmi_score                                           0\n",
      "bmi_body_fat                                        0\n",
      "waist                                               0\n",
      "lean_body_mass                                      0\n",
      "screening_score                                     0\n",
      "cognitive_total_score                               0\n",
      "memory_complain                                     0\n",
      "sleep                                               0\n",
      "mmse_total_score                                    0\n",
      "depression_total_score                              0\n",
      "anxiety_perception                                  0\n",
      "living_alone                                        0\n",
      "leisure_out                                         0\n",
      "leisure_club                                        0\n",
      "social_visits                                       0\n",
      "social_calls                                        0\n",
      "social_phone                                        0\n",
      "social_skype                                        0\n",
      "social_text                                         0\n",
      "house_suitable_participant                          0\n",
      "house_suitable_professional                         0\n",
      "stairs_number                                       0\n",
      "life_quality                                        0\n",
      "health_rate                                         0\n",
      "health_rate_comparison                              0\n",
      "pain_perception                                     0\n",
      "activity_regular                                    0\n",
      "alcohol_units                                       0\n",
      "katz_index                                          0\n",
      "iadl_grade                                          0\n",
      "comorbidities_count                                 0\n",
      "comorbidities_significant_count                     0\n",
      "medication_count                                    0\n",
      "smoking_Current smoker                              0\n",
      "smoking_Never smoked                                0\n",
      "smoking_Past smoker (stopped at least 6 months)     0\n",
      "dtype: int64\n"
     ]
    }
   ],
   "source": [
    "clinical['memory_complain'] = clinical['memory_complain'].apply(lambda x: 0 if pd.isna(x)  else x)\n",
    "clinical['house_suitable_participant'] = clinical['house_suitable_participant'].apply(lambda x: 1 if pd.isna(x)  else x)\n",
    "clinical['house_suitable_professional'] = clinical['house_suitable_professional'].apply(lambda x: 1 if pd.isna(x)  else x)\n",
    "\n",
    "print(clinical.isna().sum())"
   ]
  },
  {
   "cell_type": "markdown",
   "id": "dcff3dd6-e228-43a6-b24b-80c2090cf908",
   "metadata": {},
   "source": [
    "### The only missing values remaining can be found in 'balance_single'. Below, we filter the clinical dataset by keeping only the instances that have missing values. The labels ('balance_single' values) of these instances will be predicted using the classifier 'model_balance_single'."
   ]
  },
  {
   "cell_type": "code",
   "execution_count": 39,
   "id": "f0d99f7d-6d39-4316-8fd6-57ba6d946cf5",
   "metadata": {},
   "outputs": [],
   "source": [
    "clinical_missing_balance_single = clinical[clinical['balance_single'].isnull()] #containing only the instances that have missing value in balance_single"
   ]
  },
  {
   "cell_type": "markdown",
   "id": "c9df78f3-9411-4c04-865d-84d9908d75b5",
   "metadata": {},
   "source": [
    "### Before we use the RandomForestClassifier 'model_balance_single' lets tune it's hyperparameters and also test it's performance on the corresponding test set. Hyperparameter tuning is implemented using GridsSearchCV(). The algorithm checks every possible combination of the hyperparameters specified in the 'param_grid' dictionary ( the different models are evaluated using cross validation) and returns the model with the best (according to the chosen 'scoring' parameter) hyperparameters."
   ]
  },
  {
   "cell_type": "code",
   "execution_count": 40,
   "id": "08fb7f88-f1b8-47a8-9be3-b6d5bf480534",
   "metadata": {},
   "outputs": [
    {
     "data": {
      "text/html": [
       "<style>#sk-container-id-2 {color: black;}#sk-container-id-2 pre{padding: 0;}#sk-container-id-2 div.sk-toggleable {background-color: white;}#sk-container-id-2 label.sk-toggleable__label {cursor: pointer;display: block;width: 100%;margin-bottom: 0;padding: 0.3em;box-sizing: border-box;text-align: center;}#sk-container-id-2 label.sk-toggleable__label-arrow:before {content: \"▸\";float: left;margin-right: 0.25em;color: #696969;}#sk-container-id-2 label.sk-toggleable__label-arrow:hover:before {color: black;}#sk-container-id-2 div.sk-estimator:hover label.sk-toggleable__label-arrow:before {color: black;}#sk-container-id-2 div.sk-toggleable__content {max-height: 0;max-width: 0;overflow: hidden;text-align: left;background-color: #f0f8ff;}#sk-container-id-2 div.sk-toggleable__content pre {margin: 0.2em;color: black;border-radius: 0.25em;background-color: #f0f8ff;}#sk-container-id-2 input.sk-toggleable__control:checked~div.sk-toggleable__content {max-height: 200px;max-width: 100%;overflow: auto;}#sk-container-id-2 input.sk-toggleable__control:checked~label.sk-toggleable__label-arrow:before {content: \"▾\";}#sk-container-id-2 div.sk-estimator input.sk-toggleable__control:checked~label.sk-toggleable__label {background-color: #d4ebff;}#sk-container-id-2 div.sk-label input.sk-toggleable__control:checked~label.sk-toggleable__label {background-color: #d4ebff;}#sk-container-id-2 input.sk-hidden--visually {border: 0;clip: rect(1px 1px 1px 1px);clip: rect(1px, 1px, 1px, 1px);height: 1px;margin: -1px;overflow: hidden;padding: 0;position: absolute;width: 1px;}#sk-container-id-2 div.sk-estimator {font-family: monospace;background-color: #f0f8ff;border: 1px dotted black;border-radius: 0.25em;box-sizing: border-box;margin-bottom: 0.5em;}#sk-container-id-2 div.sk-estimator:hover {background-color: #d4ebff;}#sk-container-id-2 div.sk-parallel-item::after {content: \"\";width: 100%;border-bottom: 1px solid gray;flex-grow: 1;}#sk-container-id-2 div.sk-label:hover label.sk-toggleable__label {background-color: #d4ebff;}#sk-container-id-2 div.sk-serial::before {content: \"\";position: absolute;border-left: 1px solid gray;box-sizing: border-box;top: 0;bottom: 0;left: 50%;z-index: 0;}#sk-container-id-2 div.sk-serial {display: flex;flex-direction: column;align-items: center;background-color: white;padding-right: 0.2em;padding-left: 0.2em;position: relative;}#sk-container-id-2 div.sk-item {position: relative;z-index: 1;}#sk-container-id-2 div.sk-parallel {display: flex;align-items: stretch;justify-content: center;background-color: white;position: relative;}#sk-container-id-2 div.sk-item::before, #sk-container-id-2 div.sk-parallel-item::before {content: \"\";position: absolute;border-left: 1px solid gray;box-sizing: border-box;top: 0;bottom: 0;left: 50%;z-index: -1;}#sk-container-id-2 div.sk-parallel-item {display: flex;flex-direction: column;z-index: 1;position: relative;background-color: white;}#sk-container-id-2 div.sk-parallel-item:first-child::after {align-self: flex-end;width: 50%;}#sk-container-id-2 div.sk-parallel-item:last-child::after {align-self: flex-start;width: 50%;}#sk-container-id-2 div.sk-parallel-item:only-child::after {width: 0;}#sk-container-id-2 div.sk-dashed-wrapped {border: 1px dashed gray;margin: 0 0.4em 0.5em 0.4em;box-sizing: border-box;padding-bottom: 0.4em;background-color: white;}#sk-container-id-2 div.sk-label label {font-family: monospace;font-weight: bold;display: inline-block;line-height: 1.2em;}#sk-container-id-2 div.sk-label-container {text-align: center;}#sk-container-id-2 div.sk-container {/* jupyter's `normalize.less` sets `[hidden] { display: none; }` but bootstrap.min.css set `[hidden] { display: none !important; }` so we also need the `!important` here to be able to override the default hidden behavior on the sphinx rendered scikit-learn.org. See: https://github.com/scikit-learn/scikit-learn/issues/21755 */display: inline-block !important;position: relative;}#sk-container-id-2 div.sk-text-repr-fallback {display: none;}</style><div id=\"sk-container-id-2\" class=\"sk-top-container\"><div class=\"sk-text-repr-fallback\"><pre>GridSearchCV(cv=3,\n",
       "             estimator=RandomForestClassifier(n_estimators=200, n_jobs=-1),\n",
       "             param_grid={&#x27;max_depth&#x27;: [None, 10, 20, 30],\n",
       "                         &#x27;min_samples_leaf&#x27;: [1, 2, 4],\n",
       "                         &#x27;min_samples_split&#x27;: [2, 5, 10],\n",
       "                         &#x27;n_estimators&#x27;: [300, 100, 200]},\n",
       "             scoring=&#x27;recall_weighted&#x27;)</pre><b>In a Jupyter environment, please rerun this cell to show the HTML representation or trust the notebook. <br />On GitHub, the HTML representation is unable to render, please try loading this page with nbviewer.org.</b></div><div class=\"sk-container\" hidden><div class=\"sk-item sk-dashed-wrapped\"><div class=\"sk-label-container\"><div class=\"sk-label sk-toggleable\"><input class=\"sk-toggleable__control sk-hidden--visually\" id=\"sk-estimator-id-2\" type=\"checkbox\" ><label for=\"sk-estimator-id-2\" class=\"sk-toggleable__label sk-toggleable__label-arrow\">GridSearchCV</label><div class=\"sk-toggleable__content\"><pre>GridSearchCV(cv=3,\n",
       "             estimator=RandomForestClassifier(n_estimators=200, n_jobs=-1),\n",
       "             param_grid={&#x27;max_depth&#x27;: [None, 10, 20, 30],\n",
       "                         &#x27;min_samples_leaf&#x27;: [1, 2, 4],\n",
       "                         &#x27;min_samples_split&#x27;: [2, 5, 10],\n",
       "                         &#x27;n_estimators&#x27;: [300, 100, 200]},\n",
       "             scoring=&#x27;recall_weighted&#x27;)</pre></div></div></div><div class=\"sk-parallel\"><div class=\"sk-parallel-item\"><div class=\"sk-item\"><div class=\"sk-label-container\"><div class=\"sk-label sk-toggleable\"><input class=\"sk-toggleable__control sk-hidden--visually\" id=\"sk-estimator-id-3\" type=\"checkbox\" ><label for=\"sk-estimator-id-3\" class=\"sk-toggleable__label sk-toggleable__label-arrow\">estimator: RandomForestClassifier</label><div class=\"sk-toggleable__content\"><pre>RandomForestClassifier(n_estimators=200, n_jobs=-1)</pre></div></div></div><div class=\"sk-serial\"><div class=\"sk-item\"><div class=\"sk-estimator sk-toggleable\"><input class=\"sk-toggleable__control sk-hidden--visually\" id=\"sk-estimator-id-4\" type=\"checkbox\" ><label for=\"sk-estimator-id-4\" class=\"sk-toggleable__label sk-toggleable__label-arrow\">RandomForestClassifier</label><div class=\"sk-toggleable__content\"><pre>RandomForestClassifier(n_estimators=200, n_jobs=-1)</pre></div></div></div></div></div></div></div></div></div></div>"
      ],
      "text/plain": [
       "GridSearchCV(cv=3,\n",
       "             estimator=RandomForestClassifier(n_estimators=200, n_jobs=-1),\n",
       "             param_grid={'max_depth': [None, 10, 20, 30],\n",
       "                         'min_samples_leaf': [1, 2, 4],\n",
       "                         'min_samples_split': [2, 5, 10],\n",
       "                         'n_estimators': [300, 100, 200]},\n",
       "             scoring='recall_weighted')"
      ]
     },
     "execution_count": 40,
     "metadata": {},
     "output_type": "execute_result"
    }
   ],
   "source": [
    "from sklearn.model_selection import GridSearchCV\n",
    "\n",
    "param_grid = {\n",
    "    'n_estimators': [300, 100, 200],\n",
    "    'max_depth': [None, 10, 20, 30],\n",
    "    'min_samples_split': [2, 5, 10],\n",
    "    'min_samples_leaf': [1, 2, 4]\n",
    "}\n",
    "\n",
    "grid = GridSearchCV(estimator = model_balance_single, param_grid=param_grid, cv=3, scoring='recall_weighted') #using recall_weighted because there is class imbalance\n",
    "grid.fit(X_train_balance_single, y_train_balance_single)\n",
    "\n"
   ]
  },
  {
   "cell_type": "code",
   "execution_count": 41,
   "id": "c6978691-e43a-4289-bb81-a1655f0146c3",
   "metadata": {},
   "outputs": [
    {
     "name": "stdout",
     "output_type": "stream",
     "text": [
      "{'max_depth': 20, 'min_samples_leaf': 2, 'min_samples_split': 5, 'n_estimators': 100}\n"
     ]
    }
   ],
   "source": [
    "# Get the best hyperparameters and model\n",
    "best_params = grid.best_params_\n",
    "best_model = grid.best_estimator_\n",
    "print(best_params)"
   ]
  },
  {
   "cell_type": "code",
   "execution_count": 42,
   "id": "6474b002-744a-40cc-8727-068424919cc0",
   "metadata": {},
   "outputs": [
    {
     "name": "stdout",
     "output_type": "stream",
     "text": [
      "balance_single_best\n",
      "              precision    recall  f1-score   support\n",
      "\n",
      "         0.0       0.67      0.39      0.49        88\n",
      "         1.0       0.77      0.91      0.83       194\n",
      "\n",
      "    accuracy                           0.75       282\n",
      "   macro avg       0.72      0.65      0.66       282\n",
      "weighted avg       0.74      0.75      0.73       282\n",
      "\n"
     ]
    },
    {
     "data": {
      "image/png": "[encoded data removed]",
      "text/plain": [
       "<Figure size 640x480 with 2 Axes>"
      ]
     },
     "metadata": {},
     "output_type": "display_data"
    }
   ],
   "source": [
    "y_train_pred_balance_single_best = cross_val_predict(best_model, X_train_balance_single, y_train_balance_single, cv=3)\n",
    "\n",
    "cm_balance_single_best = confusion_matrix( y_train_balance_single, y_train_pred_balance_single_best)\n",
    "\n",
    "print(\"balance_single_best\")\n",
    "ConfusionMatrixDisplay(cm_balance_single_best, display_labels=best_model.classes_).plot()\n",
    "print(classification_report(y_train_balance_single, y_train_pred_balance_single_best))\n"
   ]
  },
  {
   "cell_type": "markdown",
   "id": "ec9e5ad4-3473-43ed-951f-b27bae161d5e",
   "metadata": {},
   "source": [
    "### There is no substantial difference in model performance but overall the tuned model behaves better. To conclude, we evaluate the performance on the test set.\r\n"
   ]
  },
  {
   "cell_type": "code",
   "execution_count": 43,
   "id": "7837017f-30d8-4945-93da-6bed836c98a1",
   "metadata": {},
   "outputs": [
    {
     "name": "stdout",
     "output_type": "stream",
     "text": [
      "balance_single_best_test\n",
      "              precision    recall  f1-score   support\n",
      "\n",
      "         0.0       0.00      0.00      0.00        18\n",
      "         1.0       0.74      0.96      0.84        53\n",
      "\n",
      "    accuracy                           0.72        71\n",
      "   macro avg       0.37      0.48      0.42        71\n",
      "weighted avg       0.55      0.72      0.62        71\n",
      "\n"
     ]
    },
    {
     "data": {
      "image/png": "[encoded data removed]",
      "text/plain": [
       "<Figure size 640x480 with 2 Axes>"
      ]
     },
     "metadata": {},
     "output_type": "display_data"
    }
   ],
   "source": [
    "y_test_predict = best_model.predict(X_test_balance_single)\n",
    "\n",
    "y_test_pred_balance_single_best = cross_val_predict(best_model, X_test_balance_single, y_test_balance_single, cv=3)\n",
    "\n",
    "cm_balance_single_best_test = confusion_matrix( y_test_balance_single, y_test_pred_balance_single_best)\n",
    "\n",
    "print(\"balance_single_best_test\")\n",
    "ConfusionMatrixDisplay(cm_balance_single_best_test, display_labels=best_model.classes_).plot()\n",
    "print(classification_report(y_test_balance_single, y_test_pred_balance_single_best))\n"
   ]
  },
  {
   "cell_type": "markdown",
   "id": "ceb23fa9-b633-41ee-a3b6-a9ca30414b93",
   "metadata": {},
   "source": [
    "### We know that our model's ability to predict class 0 is limited due to the small number of instances of that class contained in the training set (compared to class 1), but when tested on the test set it fails to recognize every single one of them, but considering the low number of them (18) that is being tested on, we cannot conclude that this is an absolute bad model for predicting class 0. Cross validation performed above showed that it actually has a 39% recall, meaning that it can identify 39% of those instances with a fairly big precision (67%)."
   ]
  },
  {
   "cell_type": "markdown",
   "id": "ec198d84-24bf-451d-aaea-d81ec392c320",
   "metadata": {},
   "source": [
    "### Predicting the missing values:"
   ]
  },
  {
   "cell_type": "code",
   "execution_count": 44,
   "id": "f2b35c3d-974a-4a33-80ea-f9c4c8afdc02",
   "metadata": {},
   "outputs": [
    {
     "name": "stderr",
     "output_type": "stream",
     "text": [
      "C:\\Users\\Θανάσης\\AppData\\Local\\Temp\\ipykernel_14052\\1911066425.py:1: SettingWithCopyWarning: \n",
      "A value is trying to be set on a copy of a slice from a DataFrame\n",
      "\n",
      "See the caveats in the documentation: https://pandas.pydata.org/pandas-docs/stable/user_guide/indexing.html#returning-a-view-versus-a-copy\n",
      "  clinical_missing_balance_single.drop(columns=['balance_single'],inplace=True)\n",
      "C:\\Users\\Θανάσης\\AppData\\Local\\Temp\\ipykernel_14052\\1911066425.py:3: SettingWithCopyWarning: \n",
      "A value is trying to be set on a copy of a slice from a DataFrame\n",
      "\n",
      "See the caveats in the documentation: https://pandas.pydata.org/pandas-docs/stable/user_guide/indexing.html#returning-a-view-versus-a-copy\n",
      "  clinical_missing_balance_single.drop(columns=['part_id'],inplace=True)\n"
     ]
    }
   ],
   "source": [
    "clinical_missing_balance_single.drop(columns=['balance_single'],inplace=True)\n",
    "part_id = clinical_missing_balance_single['part_id']\n",
    "clinical_missing_balance_single.drop(columns=['part_id'],inplace=True)\n",
    "predicted_missing_balance_single = best_model.predict(clinical_missing_balance_single )\n"
   ]
  },
  {
   "cell_type": "code",
   "execution_count": 45,
   "id": "dc57f256-da6d-49e6-af51-d0af4ad3cd15",
   "metadata": {},
   "outputs": [
    {
     "name": "stdout",
     "output_type": "stream",
     "text": [
      "[0. 0. 0. 1. 0. 0. 0. 0. 0. 0. 0. 0. 0. 0. 0. 0. 0. 0. 0. 0. 0. 0. 0. 0.\n",
      " 0. 1. 0. 0. 0. 0. 1. 0. 1. 1. 1. 0. 1. 1. 0. 0. 0. 1. 0. 0. 0. 1.] 46\n"
     ]
    }
   ],
   "source": [
    "print(predicted_missing_balance_single,len(predicted_missing_balance_single))"
   ]
  },
  {
   "cell_type": "markdown",
   "id": "c452e0ec-eba3-40ca-b5a1-83a83b6e4f97",
   "metadata": {},
   "source": [
    "### The prediction takes place in a serial order, meaning that the first prediction belongs to the first row of the 'clinical_missing_balance_single' dataframe and that row's part_id value is the first value of the 'part_id' dataframe. Knowing that, we can match each prediction to the corresponding row in 'clinical' dataframe using the unique 'part_id' indeces."
   ]
  },
  {
   "cell_type": "code",
   "execution_count": 46,
   "id": "44b7db45-c438-4a74-996c-f3ffb313215a",
   "metadata": {},
   "outputs": [
    {
     "name": "stdout",
     "output_type": "stream",
     "text": [
      "<class 'numpy.ndarray'> <class 'pandas.core.series.Series'>\n"
     ]
    }
   ],
   "source": [
    "print(type(predicted_missing_balance_single),type(part_id))"
   ]
  },
  {
   "cell_type": "code",
   "execution_count": 47,
   "id": "9b91122e-eae5-4452-9286-005852bd9988",
   "metadata": {},
   "outputs": [
    {
     "name": "stdout",
     "output_type": "stream",
     "text": [
      "    part_id  balance_single_predicted\n",
      "0      1008                         0\n",
      "1      1016                         0\n",
      "2      1018                         0\n",
      "3      1019                         1\n",
      "4      1021                         0\n",
      "5      1024                         0\n",
      "6      1025                         0\n",
      "7      1028                         0\n",
      "8      1032                         0\n",
      "9      1034                         0\n",
      "10     1037                         0\n",
      "11     1056                         0\n",
      "12     1062                         0\n",
      "13     1063                         0\n",
      "14     1064                         0\n",
      "15     1065                         0\n",
      "16     1067                         0\n",
      "17     1069                         0\n",
      "18     1070                         0\n",
      "19     1071                         0\n",
      "20     1072                         0\n",
      "21     1073                         0\n",
      "22     1074                         0\n",
      "23     1075                         0\n",
      "24     1076                         0\n",
      "25     1077                         1\n",
      "26     1078                         0\n",
      "27     1079                         0\n",
      "28     1082                         0\n",
      "29     1088                         0\n",
      "30     1090                         1\n",
      "31     1104                         0\n",
      "32     1109                         1\n",
      "33     1122                         1\n",
      "34     1134                         1\n",
      "35     1169                         0\n",
      "36     1509                         1\n",
      "37     1515                         1\n",
      "38     2082                         0\n",
      "39     2089                         0\n",
      "40     2113                         0\n",
      "41     2153                         1\n",
      "42     3017                         0\n",
      "43     3018                         0\n",
      "44     3047                         0\n",
      "45     3064                         1\n"
     ]
    }
   ],
   "source": [
    "df1 = pd.DataFrame({'balance_single_predicted': predicted_missing_balance_single})\n",
    "df2 = pd.DataFrame({'part_id': part_id})\n",
    "df1 = df1.reset_index(drop=True)\n",
    "df2 = df2.reset_index(drop=True)\n",
    "\n",
    "result = pd.concat([df2, df1], axis=1)\n",
    "result['part_id'] = result['part_id'].astype(int)\n",
    "result['balance_single_predicted'] = result['balance_single_predicted'].astype(int)\n",
    "\n",
    "print(result)\n"
   ]
  },
  {
   "cell_type": "code",
   "execution_count": 48,
   "id": "86546f1b-0b93-402e-ac1f-d802194c79c6",
   "metadata": {},
   "outputs": [],
   "source": [
    "# Merge DataFrames and fill missing values.\n",
    "clinical = clinical.merge(result, on='part_id', how='left')\n",
    "clinical['balance_single'].fillna(clinical['balance_single_predicted'], inplace=True)\n",
    "clinical.drop(columns=['balance_single_predicted'], inplace=True)\n",
    "\n"
   ]
  },
  {
   "cell_type": "code",
   "execution_count": 49,
   "id": "7173ac08-4bc8-44df-8752-84750168f7d8",
   "metadata": {},
   "outputs": [
    {
     "name": "stdout",
     "output_type": "stream",
     "text": [
      "<class 'pandas.core.frame.DataFrame'>\n",
      "RangeIndex: 526 entries, 0 to 525\n",
      "Data columns (total 57 columns):\n",
      " #   Column                                           Non-Null Count  Dtype  \n",
      "---  ------                                           --------------  -----  \n",
      " 0   part_id                                          526 non-null    float64\n",
      " 1   fried                                            526 non-null    int32  \n",
      " 2   gender                                           526 non-null    int32  \n",
      " 3   age                                              526 non-null    float64\n",
      " 4   hospitalization_one_year                         526 non-null    float64\n",
      " 5   hospitalization_three_years                      526 non-null    float64\n",
      " 6   ortho_hypotension                                526 non-null    int32  \n",
      " 7   vision                                           526 non-null    int32  \n",
      " 8   audition                                         526 non-null    int32  \n",
      " 9   weight_loss                                      526 non-null    int32  \n",
      " 10  exhaustion_score                                 526 non-null    float64\n",
      " 11  raise_chair_time                                 526 non-null    float64\n",
      " 12  balance_single                                   526 non-null    float64\n",
      " 13  gait_get_up                                      526 non-null    float64\n",
      " 14  gait_speed_4m                                    526 non-null    float64\n",
      " 15  gait_optional_binary                             526 non-null    int32  \n",
      " 16  gait_speed_slower                                526 non-null    int32  \n",
      " 17  grip_strength_abnormal                           526 non-null    int32  \n",
      " 18  low_physical_activity                            526 non-null    int32  \n",
      " 19  falls_one_year                                   526 non-null    float64\n",
      " 20  fractures_three_years                            526 non-null    float64\n",
      " 21  bmi_score                                        526 non-null    float64\n",
      " 22  bmi_body_fat                                     526 non-null    float64\n",
      " 23  waist                                            526 non-null    float64\n",
      " 24  lean_body_mass                                   526 non-null    float64\n",
      " 25  screening_score                                  526 non-null    float64\n",
      " 26  cognitive_total_score                            526 non-null    float64\n",
      " 27  memory_complain                                  526 non-null    float64\n",
      " 28  sleep                                            526 non-null    int32  \n",
      " 29  mmse_total_score                                 526 non-null    float64\n",
      " 30  depression_total_score                           526 non-null    float64\n",
      " 31  anxiety_perception                               526 non-null    float64\n",
      " 32  living_alone                                     526 non-null    int32  \n",
      " 33  leisure_out                                      526 non-null    float64\n",
      " 34  leisure_club                                     526 non-null    int32  \n",
      " 35  social_visits                                    526 non-null    float64\n",
      " 36  social_calls                                     526 non-null    float64\n",
      " 37  social_phone                                     526 non-null    float64\n",
      " 38  social_skype                                     526 non-null    float64\n",
      " 39  social_text                                      526 non-null    float64\n",
      " 40  house_suitable_participant                       526 non-null    float64\n",
      " 41  house_suitable_professional                      526 non-null    float64\n",
      " 42  stairs_number                                    526 non-null    float64\n",
      " 43  life_quality                                     526 non-null    float64\n",
      " 44  health_rate                                      526 non-null    int32  \n",
      " 45  health_rate_comparison                           526 non-null    int32  \n",
      " 46  pain_perception                                  526 non-null    float64\n",
      " 47  activity_regular                                 526 non-null    int32  \n",
      " 48  alcohol_units                                    526 non-null    float64\n",
      " 49  katz_index                                       526 non-null    float64\n",
      " 50  iadl_grade                                       526 non-null    float64\n",
      " 51  comorbidities_count                              526 non-null    float64\n",
      " 52  comorbidities_significant_count                  526 non-null    float64\n",
      " 53  medication_count                                 526 non-null    float64\n",
      " 54  smoking_Current smoker                           526 non-null    int32  \n",
      " 55  smoking_Never smoked                             526 non-null    int32  \n",
      " 56  smoking_Past smoker (stopped at least 6 months)  526 non-null    int32  \n",
      "dtypes: float64(38), int32(19)\n",
      "memory usage: 195.3 KB\n"
     ]
    }
   ],
   "source": [
    "clinical.info()"
   ]
  },
  {
   "cell_type": "markdown",
   "id": "ef82647e-c64e-428b-94a2-984725a9c5ee",
   "metadata": {},
   "source": [
    "### We have successfully cleaned the dataset, filled in all missing numerical values and encoded the categorical attributes"
   ]
  },
  {
   "cell_type": "code",
   "execution_count": 50,
   "id": "755ca8ee-bcc0-4a27-a796-eb2754155b81",
   "metadata": {},
   "outputs": [],
   "source": [
    "clinical.to_csv('clinical_dataset_cleaned.csv',index=False)"
   ]
  },
  {
   "cell_type": "code",
   "execution_count": null,
   "id": "96199229-6850-482f-984d-18d7f02ece08",
   "metadata": {},
   "outputs": [],
   "source": []
  }
 ],
 "metadata": {
  "kernelspec": {
   "display_name": "Python 3 (ipykernel)",
   "language": "python",
   "name": "python3"
  },
  "language_info": {
   "codemirror_mode": {
    "name": "ipython",
    "version": 3
   },
   "file_extension": ".py",
   "mimetype": "text/x-python",
   "name": "python",
   "nbconvert_exporter": "python",
   "pygments_lexer": "ipython3",
   "version": "3.11.5"
  }
 },
 "nbformat": 4,
 "nbformat_minor": 5
}
